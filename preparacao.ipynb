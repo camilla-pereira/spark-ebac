{
  "nbformat": 4,
  "nbformat_minor": 0,
  "metadata": {
    "colab": {
      "provenance": []
    },
    "kernelspec": {
      "name": "python3",
      "display_name": "Python 3"
    },
    "language_info": {
      "name": "python"
    }
  },
  "cells": [
    {
      "cell_type": "code",
      "execution_count": null,
      "metadata": {
        "colab": {
          "base_uri": "https://localhost:8080/"
        },
        "id": "VSSd5nntafrP",
        "outputId": "d552d207-bbd5-4fb0-e558-8f615df79890"
      },
      "outputs": [
        {
          "output_type": "stream",
          "name": "stdout",
          "text": [
            "Requirement already satisfied: pyspark in /usr/local/lib/python3.12/dist-packages (3.5.1)\n",
            "Requirement already satisfied: py4j==0.10.9.7 in /usr/local/lib/python3.12/dist-packages (from pyspark) (0.10.9.7)\n"
          ]
        }
      ],
      "source": [
        "# @title\n",
        "!pip install pyspark"
      ]
    },
    {
      "cell_type": "code",
      "source": [
        "import pyspark\n",
        "from pyspark.sql import SparkSession\n",
        "from pyspark.sql.functions import col, to_date, date_format\n",
        "from pyspark.ml.feature import StringIndexer, MinMaxScaler, PCA, VectorAssembler\n",
        "from pyspark.ml.regression import LinearRegression"
      ],
      "metadata": {
        "id": "qQy9aBsXaudf"
      },
      "execution_count": 65,
      "outputs": []
    },
    {
      "cell_type": "code",
      "source": [
        "spark = SparkSession.builder.getOrCreate()"
      ],
      "metadata": {
        "id": "Vkvu9Cpma51f"
      },
      "execution_count": 47,
      "outputs": []
    },
    {
      "cell_type": "code",
      "source": [
        "df_video = spark.read.parquet('/content/videos-comments-tratados.snappy.parquet')"
      ],
      "metadata": {
        "id": "nPerrNMZa8g0"
      },
      "execution_count": 48,
      "outputs": []
    },
    {
      "cell_type": "code",
      "source": [
        "df_video.show(5)"
      ],
      "metadata": {
        "colab": {
          "base_uri": "https://localhost:8080/"
        },
        "collapsed": true,
        "id": "zunhA5oObLw3",
        "outputId": "ffc9de6c-1df0-4445-95ed-a19a850b8f5c"
      },
      "execution_count": 55,
      "outputs": [
        {
          "output_type": "stream",
          "name": "stdout",
          "text": [
            "+-----------+--------------------+------------+-------+-----+--------+------+-----------+----+--------------------+---------+-------------+-----+-------------+\n",
            "|   Video ID|               Title|Published At|Keyword|Likes|Comments| Views|Interaction|Year|             Comment|Sentiment|Likes Comment|Month|Keyword Index|\n",
            "+-----------+--------------------+------------+-------+-----+--------+------+-----------+----+--------------------+---------+-------------+-----+-------------+\n",
            "|wAZZ-UWGVHI|Apple Pay Is Kill...|  2022-08-23|   tech| 3407|     672|135612|     139691|2022|Let's not forget ...|        1|           95|    8|         17.0|\n",
            "|wAZZ-UWGVHI|Apple Pay Is Kill...|  2022-08-23|   tech| 3407|     672|135612|     139691|2022|Here in NZ 50% of...|        0|           19|    8|         17.0|\n",
            "|wAZZ-UWGVHI|Apple Pay Is Kill...|  2022-08-23|   tech| 3407|     672|135612|     139691|2022|I will forever ac...|        2|          161|    8|         17.0|\n",
            "|wAZZ-UWGVHI|Apple Pay Is Kill...|  2022-08-23|   tech| 3407|     672|135612|     139691|2022|Whenever I go to ...|        0|            8|    8|         17.0|\n",
            "|wAZZ-UWGVHI|Apple Pay Is Kill...|  2022-08-23|   tech| 3407|     672|135612|     139691|2022|Apple Pay is so c...|        2|           34|    8|         17.0|\n",
            "+-----------+--------------------+------------+-------+-----+--------+------+-----------+----+--------------------+---------+-------------+-----+-------------+\n",
            "only showing top 5 rows\n",
            "\n"
          ]
        }
      ]
    },
    {
      "cell_type": "code",
      "source": [
        "df_video = df_video.withColumn('Month', date_format(col('Published At'), 'MM'))\n",
        "df_video.show(5)"
      ],
      "metadata": {
        "colab": {
          "base_uri": "https://localhost:8080/"
        },
        "collapsed": true,
        "id": "PFNIhugIbTyY",
        "outputId": "5d0ff58e-cb50-4518-87f9-5def97a5ef58"
      },
      "execution_count": 50,
      "outputs": [
        {
          "output_type": "stream",
          "name": "stdout",
          "text": [
            "+-----------+--------------------+------------+-------+-----+--------+------+-----------+----+--------------------+---------+-------------+-----+\n",
            "|   Video ID|               Title|Published At|Keyword|Likes|Comments| Views|Interaction|Year|             Comment|Sentiment|Likes Comment|Month|\n",
            "+-----------+--------------------+------------+-------+-----+--------+------+-----------+----+--------------------+---------+-------------+-----+\n",
            "|wAZZ-UWGVHI|Apple Pay Is Kill...|  2022-08-23|   tech| 3407|     672|135612|     139691|2022|Let's not forget ...|        1|           95|   08|\n",
            "|wAZZ-UWGVHI|Apple Pay Is Kill...|  2022-08-23|   tech| 3407|     672|135612|     139691|2022|Here in NZ 50% of...|        0|           19|   08|\n",
            "|wAZZ-UWGVHI|Apple Pay Is Kill...|  2022-08-23|   tech| 3407|     672|135612|     139691|2022|I will forever ac...|        2|          161|   08|\n",
            "|wAZZ-UWGVHI|Apple Pay Is Kill...|  2022-08-23|   tech| 3407|     672|135612|     139691|2022|Whenever I go to ...|        0|            8|   08|\n",
            "|wAZZ-UWGVHI|Apple Pay Is Kill...|  2022-08-23|   tech| 3407|     672|135612|     139691|2022|Apple Pay is so c...|        2|           34|   08|\n",
            "+-----------+--------------------+------------+-------+-----+--------+------+-----------+----+--------------------+---------+-------------+-----+\n",
            "only showing top 5 rows\n",
            "\n"
          ]
        }
      ]
    },
    {
      "cell_type": "code",
      "source": [
        "indexador = StringIndexer(inputCol='Keyword', outputCol='Keyword Index')\n",
        "df_video = indexador.fit(df_video).transform(df_video)\n",
        "df_video.show(5)"
      ],
      "metadata": {
        "colab": {
          "base_uri": "https://localhost:8080/"
        },
        "collapsed": true,
        "id": "kCTOvLv6fnWz",
        "outputId": "deefd5f5-1008-41c8-fde7-06222297e1e0"
      },
      "execution_count": 51,
      "outputs": [
        {
          "output_type": "stream",
          "name": "stdout",
          "text": [
            "+-----------+--------------------+------------+-------+-----+--------+------+-----------+----+--------------------+---------+-------------+-----+-------------+\n",
            "|   Video ID|               Title|Published At|Keyword|Likes|Comments| Views|Interaction|Year|             Comment|Sentiment|Likes Comment|Month|Keyword Index|\n",
            "+-----------+--------------------+------------+-------+-----+--------+------+-----------+----+--------------------+---------+-------------+-----+-------------+\n",
            "|wAZZ-UWGVHI|Apple Pay Is Kill...|  2022-08-23|   tech| 3407|     672|135612|     139691|2022|Let's not forget ...|        1|           95|   08|         17.0|\n",
            "|wAZZ-UWGVHI|Apple Pay Is Kill...|  2022-08-23|   tech| 3407|     672|135612|     139691|2022|Here in NZ 50% of...|        0|           19|   08|         17.0|\n",
            "|wAZZ-UWGVHI|Apple Pay Is Kill...|  2022-08-23|   tech| 3407|     672|135612|     139691|2022|I will forever ac...|        2|          161|   08|         17.0|\n",
            "|wAZZ-UWGVHI|Apple Pay Is Kill...|  2022-08-23|   tech| 3407|     672|135612|     139691|2022|Whenever I go to ...|        0|            8|   08|         17.0|\n",
            "|wAZZ-UWGVHI|Apple Pay Is Kill...|  2022-08-23|   tech| 3407|     672|135612|     139691|2022|Apple Pay is so c...|        2|           34|   08|         17.0|\n",
            "+-----------+--------------------+------------+-------+-----+--------+------+-----------+----+--------------------+---------+-------------+-----+-------------+\n",
            "only showing top 5 rows\n",
            "\n"
          ]
        }
      ]
    },
    {
      "cell_type": "code",
      "source": [
        "df_video.printSchema()"
      ],
      "metadata": {
        "colab": {
          "base_uri": "https://localhost:8080/"
        },
        "collapsed": true,
        "id": "lvqdLQEEjiy8",
        "outputId": "7aecd150-3e9b-4cab-8f00-52911710d4ec"
      },
      "execution_count": 52,
      "outputs": [
        {
          "output_type": "stream",
          "name": "stdout",
          "text": [
            "root\n",
            " |-- Video ID: string (nullable = true)\n",
            " |-- Title: string (nullable = true)\n",
            " |-- Published At: date (nullable = true)\n",
            " |-- Keyword: string (nullable = true)\n",
            " |-- Likes: integer (nullable = true)\n",
            " |-- Comments: integer (nullable = true)\n",
            " |-- Views: integer (nullable = true)\n",
            " |-- Interaction: integer (nullable = true)\n",
            " |-- Year: string (nullable = true)\n",
            " |-- Comment: string (nullable = true)\n",
            " |-- Sentiment: integer (nullable = true)\n",
            " |-- Likes Comment: integer (nullable = true)\n",
            " |-- Month: string (nullable = true)\n",
            " |-- Keyword Index: double (nullable = false)\n",
            "\n"
          ]
        }
      ]
    },
    {
      "cell_type": "code",
      "source": [
        "df_video = df_video.withColumn('Year', col('Year').cast('int'))\n",
        "df_video.printSchema()"
      ],
      "metadata": {
        "colab": {
          "base_uri": "https://localhost:8080/"
        },
        "collapsed": true,
        "id": "jL2xNnfzjzEE",
        "outputId": "41696195-2ac1-44e8-debb-7522fef3d42b"
      },
      "execution_count": 53,
      "outputs": [
        {
          "output_type": "stream",
          "name": "stdout",
          "text": [
            "root\n",
            " |-- Video ID: string (nullable = true)\n",
            " |-- Title: string (nullable = true)\n",
            " |-- Published At: date (nullable = true)\n",
            " |-- Keyword: string (nullable = true)\n",
            " |-- Likes: integer (nullable = true)\n",
            " |-- Comments: integer (nullable = true)\n",
            " |-- Views: integer (nullable = true)\n",
            " |-- Interaction: integer (nullable = true)\n",
            " |-- Year: integer (nullable = true)\n",
            " |-- Comment: string (nullable = true)\n",
            " |-- Sentiment: integer (nullable = true)\n",
            " |-- Likes Comment: integer (nullable = true)\n",
            " |-- Month: string (nullable = true)\n",
            " |-- Keyword Index: double (nullable = false)\n",
            "\n"
          ]
        }
      ]
    },
    {
      "cell_type": "code",
      "source": [
        "df_video = df_video.withColumn('Month', col('Month').cast('int'))\n",
        "df_video.printSchema()"
      ],
      "metadata": {
        "colab": {
          "base_uri": "https://localhost:8080/"
        },
        "collapsed": true,
        "id": "3a41Vqv2j_JK",
        "outputId": "56e32d2e-805c-4da2-cedb-265fbdb77902"
      },
      "execution_count": 54,
      "outputs": [
        {
          "output_type": "stream",
          "name": "stdout",
          "text": [
            "root\n",
            " |-- Video ID: string (nullable = true)\n",
            " |-- Title: string (nullable = true)\n",
            " |-- Published At: date (nullable = true)\n",
            " |-- Keyword: string (nullable = true)\n",
            " |-- Likes: integer (nullable = true)\n",
            " |-- Comments: integer (nullable = true)\n",
            " |-- Views: integer (nullable = true)\n",
            " |-- Interaction: integer (nullable = true)\n",
            " |-- Year: integer (nullable = true)\n",
            " |-- Comment: string (nullable = true)\n",
            " |-- Sentiment: integer (nullable = true)\n",
            " |-- Likes Comment: integer (nullable = true)\n",
            " |-- Month: integer (nullable = true)\n",
            " |-- Keyword Index: double (nullable = false)\n",
            "\n"
          ]
        }
      ]
    },
    {
      "cell_type": "code",
      "source": [
        "montar_vetor = VectorAssembler(inputCols=['Likes', 'Views', 'Year', 'Month', 'Keyword Index'], outputCol='features')\n",
        "df_video = montar_vetor.transform(df_video)\n",
        "df_video.show(5)"
      ],
      "metadata": {
        "colab": {
          "base_uri": "https://localhost:8080/"
        },
        "collapsed": true,
        "id": "Khr7LdSLrUU0",
        "outputId": "a641d890-9490-4a8f-8a01-6e5aa9e7d288"
      },
      "execution_count": 56,
      "outputs": [
        {
          "output_type": "stream",
          "name": "stdout",
          "text": [
            "+-----------+--------------------+------------+-------+-----+--------+------+-----------+----+--------------------+---------+-------------+-----+-------------+--------------------+\n",
            "|   Video ID|               Title|Published At|Keyword|Likes|Comments| Views|Interaction|Year|             Comment|Sentiment|Likes Comment|Month|Keyword Index|            features|\n",
            "+-----------+--------------------+------------+-------+-----+--------+------+-----------+----+--------------------+---------+-------------+-----+-------------+--------------------+\n",
            "|wAZZ-UWGVHI|Apple Pay Is Kill...|  2022-08-23|   tech| 3407|     672|135612|     139691|2022|Let's not forget ...|        1|           95|    8|         17.0|[3407.0,135612.0,...|\n",
            "|wAZZ-UWGVHI|Apple Pay Is Kill...|  2022-08-23|   tech| 3407|     672|135612|     139691|2022|Here in NZ 50% of...|        0|           19|    8|         17.0|[3407.0,135612.0,...|\n",
            "|wAZZ-UWGVHI|Apple Pay Is Kill...|  2022-08-23|   tech| 3407|     672|135612|     139691|2022|I will forever ac...|        2|          161|    8|         17.0|[3407.0,135612.0,...|\n",
            "|wAZZ-UWGVHI|Apple Pay Is Kill...|  2022-08-23|   tech| 3407|     672|135612|     139691|2022|Whenever I go to ...|        0|            8|    8|         17.0|[3407.0,135612.0,...|\n",
            "|wAZZ-UWGVHI|Apple Pay Is Kill...|  2022-08-23|   tech| 3407|     672|135612|     139691|2022|Apple Pay is so c...|        2|           34|    8|         17.0|[3407.0,135612.0,...|\n",
            "+-----------+--------------------+------------+-------+-----+--------+------+-----------+----+--------------------+---------+-------------+-----+-------------+--------------------+\n",
            "only showing top 5 rows\n",
            "\n"
          ]
        }
      ]
    },
    {
      "cell_type": "code",
      "source": [
        "scaler = MinMaxScaler(inputCol='features', outputCol='Features Normal')\n",
        "modelo_scaler = scaler.fit(df_video)\n",
        "df_video = modelo_scaler.transform(df_video)\n",
        "df_video.show(5)"
      ],
      "metadata": {
        "colab": {
          "base_uri": "https://localhost:8080/"
        },
        "collapsed": true,
        "id": "FWwHP00vByxn",
        "outputId": "4905290d-0c2a-44d2-bdf4-89f63c05a2a9"
      },
      "execution_count": 59,
      "outputs": [
        {
          "output_type": "stream",
          "name": "stdout",
          "text": [
            "+-----------+--------------------+------------+-------+-----+--------+------+-----------+----+--------------------+---------+-------------+-----+-------------+--------------------+--------------------+\n",
            "|   Video ID|               Title|Published At|Keyword|Likes|Comments| Views|Interaction|Year|             Comment|Sentiment|Likes Comment|Month|Keyword Index|            features|     Features Normal|\n",
            "+-----------+--------------------+------------+-------+-----+--------+------+-----------+----+--------------------+---------+-------------+-----+-------------+--------------------+--------------------+\n",
            "|wAZZ-UWGVHI|Apple Pay Is Kill...|  2022-08-23|   tech| 3407|     672|135612|     139691|2022|Let's not forget ...|        1|           95|    8|         17.0|[3407.0,135612.0,...|[2.07229197864298...|\n",
            "|wAZZ-UWGVHI|Apple Pay Is Kill...|  2022-08-23|   tech| 3407|     672|135612|     139691|2022|Here in NZ 50% of...|        0|           19|    8|         17.0|[3407.0,135612.0,...|[2.07229197864298...|\n",
            "|wAZZ-UWGVHI|Apple Pay Is Kill...|  2022-08-23|   tech| 3407|     672|135612|     139691|2022|I will forever ac...|        2|          161|    8|         17.0|[3407.0,135612.0,...|[2.07229197864298...|\n",
            "|wAZZ-UWGVHI|Apple Pay Is Kill...|  2022-08-23|   tech| 3407|     672|135612|     139691|2022|Whenever I go to ...|        0|            8|    8|         17.0|[3407.0,135612.0,...|[2.07229197864298...|\n",
            "|wAZZ-UWGVHI|Apple Pay Is Kill...|  2022-08-23|   tech| 3407|     672|135612|     139691|2022|Apple Pay is so c...|        2|           34|    8|         17.0|[3407.0,135612.0,...|[2.07229197864298...|\n",
            "+-----------+--------------------+------------+-------+-----+--------+------+-----------+----+--------------------+---------+-------------+-----+-------------+--------------------+--------------------+\n",
            "only showing top 5 rows\n",
            "\n"
          ]
        }
      ]
    },
    {
      "cell_type": "code",
      "source": [
        "pca = PCA(k=1, inputCol='Features Normal', outputCol='Features PCA')\n",
        "modelo_pca = pca.fit(df_video)\n",
        "df_video = modelo_pca.transform(df_video)\n",
        "df_video.show()"
      ],
      "metadata": {
        "colab": {
          "base_uri": "https://localhost:8080/"
        },
        "id": "i3nohncUCiS_",
        "outputId": "cfb9299b-d106-4cca-aa57-57c71ea0b7cc"
      },
      "execution_count": 62,
      "outputs": [
        {
          "output_type": "stream",
          "name": "stdout",
          "text": [
            "+-----------+--------------------+------------+-------+-----+--------+-------+-----------+----+--------------------+---------+-------------+-----+-------------+--------------------+--------------------+--------------------+\n",
            "|   Video ID|               Title|Published At|Keyword|Likes|Comments|  Views|Interaction|Year|             Comment|Sentiment|Likes Comment|Month|Keyword Index|            features|     Features Normal|        Features PCA|\n",
            "+-----------+--------------------+------------+-------+-----+--------+-------+-----------+----+--------------------+---------+-------------+-----+-------------+--------------------+--------------------+--------------------+\n",
            "|wAZZ-UWGVHI|Apple Pay Is Kill...|  2022-08-23|   tech| 3407|     672| 135612|     139691|2022|Let's not forget ...|        1|           95|    8|         17.0|[3407.0,135612.0,...|[2.07229197864298...|[0.4548135019714761]|\n",
            "|wAZZ-UWGVHI|Apple Pay Is Kill...|  2022-08-23|   tech| 3407|     672| 135612|     139691|2022|Here in NZ 50% of...|        0|           19|    8|         17.0|[3407.0,135612.0,...|[2.07229197864298...|[0.4548135019714761]|\n",
            "|wAZZ-UWGVHI|Apple Pay Is Kill...|  2022-08-23|   tech| 3407|     672| 135612|     139691|2022|I will forever ac...|        2|          161|    8|         17.0|[3407.0,135612.0,...|[2.07229197864298...|[0.4548135019714761]|\n",
            "|wAZZ-UWGVHI|Apple Pay Is Kill...|  2022-08-23|   tech| 3407|     672| 135612|     139691|2022|Whenever I go to ...|        0|            8|    8|         17.0|[3407.0,135612.0,...|[2.07229197864298...|[0.4548135019714761]|\n",
            "|wAZZ-UWGVHI|Apple Pay Is Kill...|  2022-08-23|   tech| 3407|     672| 135612|     139691|2022|Apple Pay is so c...|        2|           34|    8|         17.0|[3407.0,135612.0,...|[2.07229197864298...|[0.4548135019714761]|\n",
            "|wAZZ-UWGVHI|Apple Pay Is Kill...|  2022-08-23|   tech| 3407|     672| 135612|     139691|2022|We’ve been houndi...|        1|            8|    8|         17.0|[3407.0,135612.0,...|[2.07229197864298...|[0.4548135019714761]|\n",
            "|wAZZ-UWGVHI|Apple Pay Is Kill...|  2022-08-23|   tech| 3407|     672| 135612|     139691|2022|We only got Apple...|        2|           29|    8|         17.0|[3407.0,135612.0,...|[2.07229197864298...|[0.4548135019714761]|\n",
            "|wAZZ-UWGVHI|Apple Pay Is Kill...|  2022-08-23|   tech| 3407|     672| 135612|     139691|2022|For now, I need b...|        1|            7|    8|         17.0|[3407.0,135612.0,...|[2.07229197864298...|[0.4548135019714761]|\n",
            "|wAZZ-UWGVHI|Apple Pay Is Kill...|  2022-08-23|   tech| 3407|     672| 135612|     139691|2022|In the United Sta...|        2|            2|    8|         17.0|[3407.0,135612.0,...|[2.07229197864298...|[0.4548135019714761]|\n",
            "|wAZZ-UWGVHI|Apple Pay Is Kill...|  2022-08-23|   tech| 3407|     672| 135612|     139691|2022|In Cambodia, we h...|        1|           28|    8|         17.0|[3407.0,135612.0,...|[2.07229197864298...|[0.4548135019714761]|\n",
            "|b3x28s61q3c|The most EXPENSIV...|  2022-08-24|   tech|76779|    4306|1758063|    1839148|2022|Wow, you really w...|        2|         1344|    8|         17.0|[76779.0,1758063....|[0.00466873762089...|[0.4547846174364626]|\n",
            "|b3x28s61q3c|The most EXPENSIV...|  2022-08-24|   tech|76779|    4306|1758063|    1839148|2022|The lab is the mo...|        2|          198|    8|         17.0|[76779.0,1758063....|[0.00466873762089...|[0.4547846174364626]|\n",
            "|b3x28s61q3c|The most EXPENSIV...|  2022-08-24|   tech|76779|    4306|1758063|    1839148|2022|Linus, I'm an eng...|        2|          365|    8|         17.0|[76779.0,1758063....|[0.00466873762089...|[0.4547846174364626]|\n",
            "|b3x28s61q3c|The most EXPENSIV...|  2022-08-24|   tech|76779|    4306|1758063|    1839148|2022|There used to be ...|        2|          211|    8|         17.0|[76779.0,1758063....|[0.00466873762089...|[0.4547846174364626]|\n",
            "|b3x28s61q3c|The most EXPENSIV...|  2022-08-24|   tech|76779|    4306|1758063|    1839148|2022|Holy crap. I was ...|        0|          821|    8|         17.0|[76779.0,1758063....|[0.00466873762089...|[0.4547846174364626]|\n",
            "|b3x28s61q3c|The most EXPENSIV...|  2022-08-24|   tech|76779|    4306|1758063|    1839148|2022|I love the direct...|        2|          150|    8|         17.0|[76779.0,1758063....|[0.00466873762089...|[0.4547846174364626]|\n",
            "|b3x28s61q3c|The most EXPENSIV...|  2022-08-24|   tech|76779|    4306|1758063|    1839148|2022|I am more excited...|        2|           49|    8|         17.0|[76779.0,1758063....|[0.00466873762089...|[0.4547846174364626]|\n",
            "|b3x28s61q3c|The most EXPENSIV...|  2022-08-24|   tech|76779|    4306|1758063|    1839148|2022|I adore the worki...|        2|           19|    8|         17.0|[76779.0,1758063....|[0.00466873762089...|[0.4547846174364626]|\n",
            "|b3x28s61q3c|The most EXPENSIV...|  2022-08-24|   tech|76779|    4306|1758063|    1839148|2022|LMGs growth is ho...|     NULL|         NULL|    8|         17.0|[76779.0,1758063....|[0.00466873762089...|[0.4547846174364626]|\n",
            "|b3x28s61q3c|The most EXPENSIV...|  2022-08-24|   tech|76779|    4306|1758063|    1839148|2022|I love all the pe...|        2|         2808|    8|         17.0|[76779.0,1758063....|[0.00466873762089...|[0.4547846174364626]|\n",
            "+-----------+--------------------+------------+-------+-----+--------+-------+-----------+----+--------------------+---------+-------------+-----+-------------+--------------------+--------------------+--------------------+\n",
            "only showing top 20 rows\n",
            "\n"
          ]
        }
      ]
    },
    {
      "cell_type": "code",
      "source": [
        "train_data, test_data = df_video.randomSplit([0.8, 0.2], seed=42)"
      ],
      "metadata": {
        "id": "-u6N-Y4vDbj0"
      },
      "execution_count": 64,
      "outputs": []
    },
    {
      "cell_type": "code",
      "source": [
        "regressao_linear = LinearRegression(featuresCol='Features Normal', labelCol='Comments')\n",
        "modelo_regressao = regressao_linear.fit(train_data)\n",
        "\n",
        "avaliar_test = modelo_regressao.evaluate(test_data)\n",
        "print(\"RMSE: \", avaliar_test.rootMeanSquaredError)\n",
        "print(\"R2: \", avaliar_test.r2)"
      ],
      "metadata": {
        "colab": {
          "base_uri": "https://localhost:8080/"
        },
        "id": "3azV8AdQD-Fx",
        "outputId": "21c8e7a2-0a14-4575-f819-776fe740999f"
      },
      "execution_count": 67,
      "outputs": [
        {
          "output_type": "stream",
          "name": "stdout",
          "text": [
            "RMSE:  25370.3336201662\n",
            "R2:  0.6602413154888491\n"
          ]
        }
      ]
    },
    {
      "cell_type": "code",
      "source": [
        "df_video.write.mode('overwrite').parquet('/content/videos-preparados-pca.snappy.parquet')"
      ],
      "metadata": {
        "id": "WmJxb9M8FTKj"
      },
      "execution_count": 69,
      "outputs": []
    }
  ]
}