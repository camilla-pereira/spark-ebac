{
  "nbformat": 4,
  "nbformat_minor": 0,
  "metadata": {
    "colab": {
      "provenance": []
    },
    "kernelspec": {
      "name": "python3",
      "display_name": "Python 3"
    },
    "language_info": {
      "name": "python"
    }
  },
  "cells": [
    {
      "cell_type": "code",
      "execution_count": 1,
      "metadata": {
        "colab": {
          "base_uri": "https://localhost:8080/"
        },
        "collapsed": true,
        "id": "QgXVH8rntVmk",
        "outputId": "323f1eb5-a13a-4997-ce0e-5c184382c585"
      },
      "outputs": [
        {
          "output_type": "stream",
          "name": "stdout",
          "text": [
            "Requirement already satisfied: pyspark in /usr/local/lib/python3.12/dist-packages (3.5.1)\n",
            "Requirement already satisfied: py4j==0.10.9.7 in /usr/local/lib/python3.12/dist-packages (from pyspark) (0.10.9.7)\n"
          ]
        }
      ],
      "source": [
        "!pip install pyspark"
      ]
    },
    {
      "cell_type": "code",
      "source": [
        "import pyspark\n",
        "from pyspark.sql import SparkSession\n",
        "from pyspark.sql.functions import *\n",
        "from posixpath import join\n",
        "from pyspark.sql.functions import broadcast"
      ],
      "metadata": {
        "id": "pyH2ZupFu665"
      },
      "execution_count": 2,
      "outputs": []
    },
    {
      "cell_type": "code",
      "source": [
        "spark = SparkSession.builder.getOrCreate()"
      ],
      "metadata": {
        "id": "lRjWdMcpvF81"
      },
      "execution_count": 3,
      "outputs": []
    },
    {
      "cell_type": "code",
      "source": [
        "df_video = spark.read.parquet('/content/videos-preparados.snappy.parquet')\n",
        "df_video.explain()"
      ],
      "metadata": {
        "id": "shn_pV-SvTrG",
        "colab": {
          "base_uri": "https://localhost:8080/"
        },
        "collapsed": true,
        "outputId": "e1b6c96d-fd1b-4d8b-e446-004f95df3e16"
      },
      "execution_count": 4,
      "outputs": [
        {
          "output_type": "stream",
          "name": "stdout",
          "text": [
            "== Physical Plan ==\n",
            "*(1) ColumnarToRow\n",
            "+- FileScan parquet [Title#0,Video ID#1,Published At#2,Keyword#3,Likes#4,Comments#5,Views#6,Interaction#7,Year#8,Month#9,Keyword Index#10,Features PCA#11,Features Normal#12,Features#13] Batched: true, DataFilters: [], Format: Parquet, Location: InMemoryFileIndex(1 paths)[file:/content/videos-preparados.snappy.parquet], PartitionFilters: [], PushedFilters: [], ReadSchema: struct<Title:string,Video ID:string,Published At:date,Keyword:string,Likes:int,Comments:int,Views...\n",
            "\n",
            "\n"
          ]
        }
      ]
    },
    {
      "cell_type": "code",
      "source": [
        "df_comments = spark.read.parquet('/content/videos-comments-tratados.snappy.parquet')\n",
        "df_comments.explain()"
      ],
      "metadata": {
        "id": "IWf7LMp9v_I5",
        "colab": {
          "base_uri": "https://localhost:8080/"
        },
        "collapsed": true,
        "outputId": "19e8e5e6-48ff-49c9-c21b-1f199832e5f6"
      },
      "execution_count": 5,
      "outputs": [
        {
          "output_type": "stream",
          "name": "stdout",
          "text": [
            "== Physical Plan ==\n",
            "*(1) ColumnarToRow\n",
            "+- FileScan parquet [Video ID#28,Title#29,Published At#30,Keyword#31,Likes#32,Comments#33,Views#34,Interaction#35,Year#36,Comment#37,Sentiment#38,Likes Comment#39] Batched: true, DataFilters: [], Format: Parquet, Location: InMemoryFileIndex(1 paths)[file:/content/videos-comments-tratados.snappy.parquet], PartitionFilters: [], PushedFilters: [], ReadSchema: struct<Video ID:string,Title:string,Published At:date,Keyword:string,Likes:int,Comments:int,Views...\n",
            "\n",
            "\n"
          ]
        }
      ]
    },
    {
      "cell_type": "code",
      "source": [
        "df_video.createOrReplaceTempView('video_temp')\n",
        "df_comments.createOrReplaceTempView('comments_temp')"
      ],
      "metadata": {
        "id": "ZOgmhrL6wEnp"
      },
      "execution_count": 6,
      "outputs": []
    },
    {
      "cell_type": "code",
      "source": [
        "join_video_comments_df = spark.sql(\"\"\"\n",
        "SELECT *\n",
        "FROM video_temp v\n",
        "JOIN comments_temp c\n",
        "ON v.`Video ID` = c.`Video ID`\n",
        "\"\"\")"
      ],
      "metadata": {
        "id": "b7HVz8Uw1TZI"
      },
      "execution_count": 7,
      "outputs": []
    },
    {
      "cell_type": "code",
      "source": [
        "join_video_comments_df.printSchema()\n",
        "join_video_comments_df.show(5)\n",
        "join_video_comments_df.explain()"
      ],
      "metadata": {
        "colab": {
          "base_uri": "https://localhost:8080/"
        },
        "collapsed": true,
        "id": "Kk4Dph9c1wnm",
        "outputId": "6f09e28a-621b-4acf-87d2-7d36192da924"
      },
      "execution_count": 8,
      "outputs": [
        {
          "output_type": "stream",
          "name": "stdout",
          "text": [
            "root\n",
            " |-- Title: string (nullable = true)\n",
            " |-- Video ID: string (nullable = true)\n",
            " |-- Published At: date (nullable = true)\n",
            " |-- Keyword: string (nullable = true)\n",
            " |-- Likes: integer (nullable = true)\n",
            " |-- Comments: integer (nullable = true)\n",
            " |-- Views: integer (nullable = true)\n",
            " |-- Interaction: integer (nullable = true)\n",
            " |-- Year: integer (nullable = true)\n",
            " |-- Month: integer (nullable = true)\n",
            " |-- Keyword Index: double (nullable = true)\n",
            " |-- Features PCA: vector (nullable = true)\n",
            " |-- Features Normal: vector (nullable = true)\n",
            " |-- Features: vector (nullable = true)\n",
            " |-- Video ID: string (nullable = true)\n",
            " |-- Title: string (nullable = true)\n",
            " |-- Published At: date (nullable = true)\n",
            " |-- Keyword: string (nullable = true)\n",
            " |-- Likes: integer (nullable = true)\n",
            " |-- Comments: integer (nullable = true)\n",
            " |-- Views: integer (nullable = true)\n",
            " |-- Interaction: integer (nullable = true)\n",
            " |-- Year: string (nullable = true)\n",
            " |-- Comment: string (nullable = true)\n",
            " |-- Sentiment: integer (nullable = true)\n",
            " |-- Likes Comment: integer (nullable = true)\n",
            "\n",
            "+--------------------+-----------+------------+-------+-----+--------+------+-----------+----+-----+-------------+--------------------+--------------------+--------------------+-----------+--------------------+------------+-------+-----+--------+------+-----------+----+--------------------+---------+-------------+\n",
            "|               Title|   Video ID|Published At|Keyword|Likes|Comments| Views|Interaction|Year|Month|Keyword Index|        Features PCA|     Features Normal|            Features|   Video ID|               Title|Published At|Keyword|Likes|Comments| Views|Interaction|Year|             Comment|Sentiment|Likes Comment|\n",
            "+--------------------+-----------+------------+-------+-----+--------+------+-----------+----+-----+-------------+--------------------+--------------------+--------------------+-----------+--------------------+------------+-------+-----+--------+------+-----------+----+--------------------+---------+-------------+\n",
            "|Apple Pay Is Kill...|wAZZ-UWGVHI|  2022-08-23|   tech| 3407|     672|135612|     139691|2022|    8|         23.0|[0.5461641657286636]|[2.07229197864298...|[3407.0,135612.0,...|wAZZ-UWGVHI|Apple Pay Is Kill...|  2022-08-23|   tech| 3407|     672|135612|     139691|2022|Let's not forget ...|        1|           95|\n",
            "|Apple Pay Is Kill...|wAZZ-UWGVHI|  2022-08-23|   tech| 3407|     672|135612|     139691|2022|    8|         23.0|[0.5461641657286636]|[2.07229197864298...|[3407.0,135612.0,...|wAZZ-UWGVHI|Apple Pay Is Kill...|  2022-08-23|   tech| 3407|     672|135612|     139691|2022|Here in NZ 50% of...|        0|           19|\n",
            "|Apple Pay Is Kill...|wAZZ-UWGVHI|  2022-08-23|   tech| 3407|     672|135612|     139691|2022|    8|         23.0|[0.5461641657286636]|[2.07229197864298...|[3407.0,135612.0,...|wAZZ-UWGVHI|Apple Pay Is Kill...|  2022-08-23|   tech| 3407|     672|135612|     139691|2022|I will forever ac...|        2|          161|\n",
            "|Apple Pay Is Kill...|wAZZ-UWGVHI|  2022-08-23|   tech| 3407|     672|135612|     139691|2022|    8|         23.0|[0.5461641657286636]|[2.07229197864298...|[3407.0,135612.0,...|wAZZ-UWGVHI|Apple Pay Is Kill...|  2022-08-23|   tech| 3407|     672|135612|     139691|2022|Whenever I go to ...|        0|            8|\n",
            "|Apple Pay Is Kill...|wAZZ-UWGVHI|  2022-08-23|   tech| 3407|     672|135612|     139691|2022|    8|         23.0|[0.5461641657286636]|[2.07229197864298...|[3407.0,135612.0,...|wAZZ-UWGVHI|Apple Pay Is Kill...|  2022-08-23|   tech| 3407|     672|135612|     139691|2022|Apple Pay is so c...|        2|           34|\n",
            "+--------------------+-----------+------------+-------+-----+--------+------+-----------+----+-----+-------------+--------------------+--------------------+--------------------+-----------+--------------------+------------+-------+-----+--------+------+-----------+----+--------------------+---------+-------------+\n",
            "only showing top 5 rows\n",
            "\n",
            "== Physical Plan ==\n",
            "AdaptiveSparkPlan isFinalPlan=false\n",
            "+- BroadcastHashJoin [Video ID#1], [Video ID#28], Inner, BuildLeft, false\n",
            "   :- BroadcastExchange HashedRelationBroadcastMode(List(input[1, string, false]),false), [plan_id=127]\n",
            "   :  +- Filter isnotnull(Video ID#1)\n",
            "   :     +- FileScan parquet [Title#0,Video ID#1,Published At#2,Keyword#3,Likes#4,Comments#5,Views#6,Interaction#7,Year#8,Month#9,Keyword Index#10,Features PCA#11,Features Normal#12,Features#13] Batched: true, DataFilters: [isnotnull(Video ID#1)], Format: Parquet, Location: InMemoryFileIndex(1 paths)[file:/content/videos-preparados.snappy.parquet], PartitionFilters: [], PushedFilters: [IsNotNull(`Video ID`)], ReadSchema: struct<Title:string,Video ID:string,Published At:date,Keyword:string,Likes:int,Comments:int,Views...\n",
            "   +- Filter isnotnull(Video ID#28)\n",
            "      +- FileScan parquet [Video ID#28,Title#29,Published At#30,Keyword#31,Likes#32,Comments#33,Views#34,Interaction#35,Year#36,Comment#37,Sentiment#38,Likes Comment#39] Batched: true, DataFilters: [isnotnull(Video ID#28)], Format: Parquet, Location: InMemoryFileIndex(1 paths)[file:/content/videos-comments-tratados.snappy.parquet], PartitionFilters: [], PushedFilters: [IsNotNull(`Video ID`)], ReadSchema: struct<Video ID:string,Title:string,Published At:date,Keyword:string,Likes:int,Comments:int,Views...\n",
            "\n",
            "\n"
          ]
        }
      ]
    },
    {
      "cell_type": "code",
      "source": [
        "#Usando repartition\n",
        "\n",
        "df_video_repartition = df_video.repartition(10, \"Video ID\")\n",
        "df_comments_repartition = df_comments.repartition(10, \"Video ID\")"
      ],
      "metadata": {
        "id": "8MpWqc0b2jUW"
      },
      "execution_count": 9,
      "outputs": []
    },
    {
      "cell_type": "code",
      "source": [
        "print(df_video_repartition.rdd.getNumPartitions())\n",
        "print(df_comments_repartition.rdd.getNumPartitions())"
      ],
      "metadata": {
        "colab": {
          "base_uri": "https://localhost:8080/"
        },
        "id": "MP-2vRXPw48_",
        "outputId": "cbb2a0aa-0568-450c-8431-0af6e884d390"
      },
      "execution_count": 10,
      "outputs": [
        {
          "output_type": "stream",
          "name": "stdout",
          "text": [
            "10\n",
            "10\n"
          ]
        }
      ]
    },
    {
      "cell_type": "code",
      "source": [
        "particoes = df_video_repartition.rdd.glom().map(len).collect()\n",
        "print(\"Número de registros por partiçao de df_video\", particoes)"
      ],
      "metadata": {
        "colab": {
          "base_uri": "https://localhost:8080/"
        },
        "id": "GXOoQpU7w-q7",
        "outputId": "94d48ed7-1779-49b9-fb31-adb9ec409ca2"
      },
      "execution_count": 11,
      "outputs": [
        {
          "output_type": "stream",
          "name": "stdout",
          "text": [
            "Número de registros por partiçao de df_video [167, 193, 188, 188, 174, 191, 200, 198, 188, 182]\n"
          ]
        }
      ]
    },
    {
      "cell_type": "code",
      "source": [
        "df_video.createOrReplaceTempView('video_temp')\n",
        "df_comments.createOrReplaceTempView('comments_temp')"
      ],
      "metadata": {
        "id": "iGHkppOZzZdn"
      },
      "execution_count": 12,
      "outputs": []
    },
    {
      "cell_type": "code",
      "source": [
        "df_video_small = broadcast(df_video)\n",
        "broadcast_data = df_comments.join(df_video_small, \"Video ID\")\n",
        "broadcast_data.show(5)"
      ],
      "metadata": {
        "colab": {
          "base_uri": "https://localhost:8080/"
        },
        "id": "iEK9T4L1b5DF",
        "outputId": "82f91b7e-782d-4daf-9138-c78b6e0c23e8"
      },
      "execution_count": 13,
      "outputs": [
        {
          "output_type": "stream",
          "name": "stdout",
          "text": [
            "+-----------+--------------------+------------+-------+-----+--------+------+-----------+----+--------------------+---------+-------------+--------------------+------------+-------+-----+--------+------+-----------+----+-----+-------------+--------------------+--------------------+--------------------+\n",
            "|   Video ID|               Title|Published At|Keyword|Likes|Comments| Views|Interaction|Year|             Comment|Sentiment|Likes Comment|               Title|Published At|Keyword|Likes|Comments| Views|Interaction|Year|Month|Keyword Index|        Features PCA|     Features Normal|            Features|\n",
            "+-----------+--------------------+------------+-------+-----+--------+------+-----------+----+--------------------+---------+-------------+--------------------+------------+-------+-----+--------+------+-----------+----+-----+-------------+--------------------+--------------------+--------------------+\n",
            "|wAZZ-UWGVHI|Apple Pay Is Kill...|  2022-08-23|   tech| 3407|     672|135612|     139691|2022|Let's not forget ...|        1|           95|Apple Pay Is Kill...|  2022-08-23|   tech| 3407|     672|135612|     139691|2022|    8|         23.0|[0.5461641657286636]|[2.07229197864298...|[3407.0,135612.0,...|\n",
            "|wAZZ-UWGVHI|Apple Pay Is Kill...|  2022-08-23|   tech| 3407|     672|135612|     139691|2022|Here in NZ 50% of...|        0|           19|Apple Pay Is Kill...|  2022-08-23|   tech| 3407|     672|135612|     139691|2022|    8|         23.0|[0.5461641657286636]|[2.07229197864298...|[3407.0,135612.0,...|\n",
            "|wAZZ-UWGVHI|Apple Pay Is Kill...|  2022-08-23|   tech| 3407|     672|135612|     139691|2022|I will forever ac...|        2|          161|Apple Pay Is Kill...|  2022-08-23|   tech| 3407|     672|135612|     139691|2022|    8|         23.0|[0.5461641657286636]|[2.07229197864298...|[3407.0,135612.0,...|\n",
            "|wAZZ-UWGVHI|Apple Pay Is Kill...|  2022-08-23|   tech| 3407|     672|135612|     139691|2022|Whenever I go to ...|        0|            8|Apple Pay Is Kill...|  2022-08-23|   tech| 3407|     672|135612|     139691|2022|    8|         23.0|[0.5461641657286636]|[2.07229197864298...|[3407.0,135612.0,...|\n",
            "|wAZZ-UWGVHI|Apple Pay Is Kill...|  2022-08-23|   tech| 3407|     672|135612|     139691|2022|Apple Pay is so c...|        2|           34|Apple Pay Is Kill...|  2022-08-23|   tech| 3407|     672|135612|     139691|2022|    8|         23.0|[0.5461641657286636]|[2.07229197864298...|[3407.0,135612.0,...|\n",
            "+-----------+--------------------+------------+-------+-----+--------+------+-----------+----+--------------------+---------+-------------+--------------------+------------+-------+-----+--------+------+-----------+----+-----+-------------+--------------------+--------------------+--------------------+\n",
            "only showing top 5 rows\n",
            "\n"
          ]
        }
      ]
    },
    {
      "cell_type": "code",
      "source": [
        "join2_video_comments_df = spark.sql(\"\"\"\n",
        "SELECT\n",
        "    v.`Title`,\n",
        "    v.`Video ID`,\n",
        "    v.`Published At`,\n",
        "    v.`Keyword`,\n",
        "    v.`Likes`,\n",
        "    v.`Comments` as video_comments,\n",
        "    v.`Views`,\n",
        "    v.`Interaction`,\n",
        "    v.`Year` as video_year,\n",
        "    v.`Month`,\n",
        "    v.`Keyword Index`,\n",
        "    v.`Features PCA`,\n",
        "    v.`Features Normal`,\n",
        "    v.`Features`,\n",
        "    c.`Title` as comment_title,\n",
        "    c.`Published At` as comment_published_at,\n",
        "    c.`Keyword` as comment_keyword,\n",
        "    c.`Likes` as comment_likes,\n",
        "    c.`Comments` as comment_comments,\n",
        "    c.`Views` as comment_views,\n",
        "    c.`Interaction` as comment_interaction,\n",
        "    c.`Year` as comment_year,\n",
        "    c.`Comment`,\n",
        "    c.`Sentiment`,\n",
        "    c.`Likes Comment`\n",
        "FROM video_temp v\n",
        "JOIN comments_temp c\n",
        "ON v.`Video ID` = c.`Video ID`\n",
        "\"\"\")"
      ],
      "metadata": {
        "id": "oPApUDdS2DSR"
      },
      "execution_count": 14,
      "outputs": []
    },
    {
      "cell_type": "code",
      "source": [
        "joinfinal = join2_video_comments_df.coalesce(1)"
      ],
      "metadata": {
        "id": "3eBzdrnb21GP"
      },
      "execution_count": 15,
      "outputs": []
    },
    {
      "cell_type": "code",
      "source": [
        "# Explicando as diferenças entre os joins\n",
        "joinfinal.explain()\n",
        "join2_video_comments_df.explain()\n",
        "join_video_comments_df.explain()"
      ],
      "metadata": {
        "colab": {
          "base_uri": "https://localhost:8080/"
        },
        "collapsed": true,
        "id": "w1UoJosn8q8b",
        "outputId": "bdc451c6-8f17-42c7-d65a-e19cc7a7a279"
      },
      "execution_count": 16,
      "outputs": [
        {
          "output_type": "stream",
          "name": "stdout",
          "text": [
            "== Physical Plan ==\n",
            "AdaptiveSparkPlan isFinalPlan=false\n",
            "+- Coalesce 1\n",
            "   +- Project [Title#0, Video ID#1, Published At#2, Keyword#3, Likes#4, Comments#5 AS video_comments#311, Views#6, Interaction#7, Year#8 AS video_year#312, Month#9, Keyword Index#10, Features PCA#11, Features Normal#12, Features#13, Title#29 AS comment_title#313, Published At#30 AS comment_published_at#314, Keyword#31 AS comment_keyword#315, Likes#32 AS comment_likes#316, Comments#33 AS comment_comments#317, Views#34 AS comment_views#318, Interaction#35 AS comment_interaction#319, Year#36 AS comment_year#320, Comment#37, Sentiment#38, Likes Comment#39]\n",
            "      +- BroadcastHashJoin [Video ID#1], [Video ID#28], Inner, BuildLeft, false\n",
            "         :- BroadcastExchange HashedRelationBroadcastMode(List(input[1, string, false]),false), [plan_id=300]\n",
            "         :  +- Filter isnotnull(Video ID#1)\n",
            "         :     +- FileScan parquet [Title#0,Video ID#1,Published At#2,Keyword#3,Likes#4,Comments#5,Views#6,Interaction#7,Year#8,Month#9,Keyword Index#10,Features PCA#11,Features Normal#12,Features#13] Batched: true, DataFilters: [isnotnull(Video ID#1)], Format: Parquet, Location: InMemoryFileIndex(1 paths)[file:/content/videos-preparados.snappy.parquet], PartitionFilters: [], PushedFilters: [IsNotNull(`Video ID`)], ReadSchema: struct<Title:string,Video ID:string,Published At:date,Keyword:string,Likes:int,Comments:int,Views...\n",
            "         +- Filter isnotnull(Video ID#28)\n",
            "            +- FileScan parquet [Video ID#28,Title#29,Published At#30,Keyword#31,Likes#32,Comments#33,Views#34,Interaction#35,Year#36,Comment#37,Sentiment#38,Likes Comment#39] Batched: true, DataFilters: [isnotnull(Video ID#28)], Format: Parquet, Location: InMemoryFileIndex(1 paths)[file:/content/videos-comments-tratados.snappy.parquet], PartitionFilters: [], PushedFilters: [IsNotNull(`Video ID`)], ReadSchema: struct<Video ID:string,Title:string,Published At:date,Keyword:string,Likes:int,Comments:int,Views...\n",
            "\n",
            "\n",
            "== Physical Plan ==\n",
            "AdaptiveSparkPlan isFinalPlan=false\n",
            "+- Project [Title#0, Video ID#1, Published At#2, Keyword#3, Likes#4, Comments#5 AS video_comments#311, Views#6, Interaction#7, Year#8 AS video_year#312, Month#9, Keyword Index#10, Features PCA#11, Features Normal#12, Features#13, Title#29 AS comment_title#313, Published At#30 AS comment_published_at#314, Keyword#31 AS comment_keyword#315, Likes#32 AS comment_likes#316, Comments#33 AS comment_comments#317, Views#34 AS comment_views#318, Interaction#35 AS comment_interaction#319, Year#36 AS comment_year#320, Comment#37, Sentiment#38, Likes Comment#39]\n",
            "   +- BroadcastHashJoin [Video ID#1], [Video ID#28], Inner, BuildLeft, false\n",
            "      :- BroadcastExchange HashedRelationBroadcastMode(List(input[1, string, false]),false), [plan_id=330]\n",
            "      :  +- Filter isnotnull(Video ID#1)\n",
            "      :     +- FileScan parquet [Title#0,Video ID#1,Published At#2,Keyword#3,Likes#4,Comments#5,Views#6,Interaction#7,Year#8,Month#9,Keyword Index#10,Features PCA#11,Features Normal#12,Features#13] Batched: true, DataFilters: [isnotnull(Video ID#1)], Format: Parquet, Location: InMemoryFileIndex(1 paths)[file:/content/videos-preparados.snappy.parquet], PartitionFilters: [], PushedFilters: [IsNotNull(`Video ID`)], ReadSchema: struct<Title:string,Video ID:string,Published At:date,Keyword:string,Likes:int,Comments:int,Views...\n",
            "      +- Filter isnotnull(Video ID#28)\n",
            "         +- FileScan parquet [Video ID#28,Title#29,Published At#30,Keyword#31,Likes#32,Comments#33,Views#34,Interaction#35,Year#36,Comment#37,Sentiment#38,Likes Comment#39] Batched: true, DataFilters: [isnotnull(Video ID#28)], Format: Parquet, Location: InMemoryFileIndex(1 paths)[file:/content/videos-comments-tratados.snappy.parquet], PartitionFilters: [], PushedFilters: [IsNotNull(`Video ID`)], ReadSchema: struct<Video ID:string,Title:string,Published At:date,Keyword:string,Likes:int,Comments:int,Views...\n",
            "\n",
            "\n",
            "== Physical Plan ==\n",
            "AdaptiveSparkPlan isFinalPlan=false\n",
            "+- BroadcastHashJoin [Video ID#1], [Video ID#28], Inner, BuildLeft, false\n",
            "   :- BroadcastExchange HashedRelationBroadcastMode(List(input[1, string, false]),false), [plan_id=127]\n",
            "   :  +- Filter isnotnull(Video ID#1)\n",
            "   :     +- FileScan parquet [Title#0,Video ID#1,Published At#2,Keyword#3,Likes#4,Comments#5,Views#6,Interaction#7,Year#8,Month#9,Keyword Index#10,Features PCA#11,Features Normal#12,Features#13] Batched: true, DataFilters: [isnotnull(Video ID#1)], Format: Parquet, Location: InMemoryFileIndex(1 paths)[file:/content/videos-preparados.snappy.parquet], PartitionFilters: [], PushedFilters: [IsNotNull(`Video ID`)], ReadSchema: struct<Title:string,Video ID:string,Published At:date,Keyword:string,Likes:int,Comments:int,Views...\n",
            "   +- Filter isnotnull(Video ID#28)\n",
            "      +- FileScan parquet [Video ID#28,Title#29,Published At#30,Keyword#31,Likes#32,Comments#33,Views#34,Interaction#35,Year#36,Comment#37,Sentiment#38,Likes Comment#39] Batched: true, DataFilters: [isnotnull(Video ID#28)], Format: Parquet, Location: InMemoryFileIndex(1 paths)[file:/content/videos-comments-tratados.snappy.parquet], PartitionFilters: [], PushedFilters: [IsNotNull(`Video ID`)], ReadSchema: struct<Video ID:string,Title:string,Published At:date,Keyword:string,Likes:int,Comments:int,Views...\n",
            "\n",
            "\n"
          ]
        }
      ]
    },
    {
      "cell_type": "code",
      "source": [
        "#salvando o join mais otimizado\n",
        "\n",
        "joinfinal.write.parquet('/content/join_final.parquet')"
      ],
      "metadata": {
        "id": "S1Tf0SzW9ZiP"
      },
      "execution_count": 17,
      "outputs": []
    },
    {
      "cell_type": "code",
      "source": [
        "#testando o join mais otimizado sugerido pelo prof mas que eu nao entendi como incluir junto da atividade inicial\n",
        "from pyspark.sql import functions as F"
      ],
      "metadata": {
        "id": "6W4AYEwByhbh"
      },
      "execution_count": 18,
      "outputs": []
    },
    {
      "cell_type": "code",
      "source": [
        "df_videos2 = spark.read.parquet('/content/videos-preparados.snappy.parquet')\n",
        "df_comments2 = spark.read.parquet('/content/videos-comments-tratados.snappy.parquet')"
      ],
      "metadata": {
        "id": "EfVI-Wq_zKFa"
      },
      "execution_count": 19,
      "outputs": []
    },
    {
      "cell_type": "code",
      "source": [
        "colunas_video = ['Video ID', \"Title\", \"Published At\"]\n",
        "df_videos2 = spark.read.parquet('/content/videos-preparados.snappy.parquet').select(colunas_video)"
      ],
      "metadata": {
        "id": "UXAXEW4TzUYQ"
      },
      "execution_count": 23,
      "outputs": []
    },
    {
      "cell_type": "code",
      "source": [
        "keys_to_filter = df_videos2.select('Video ID').rdd.flatMap(lambda x: x).collect()"
      ],
      "metadata": {
        "id": "r_Nk9-QnzYKb"
      },
      "execution_count": 24,
      "outputs": []
    },
    {
      "cell_type": "code",
      "source": [
        "colunas_comments = [\"Video ID\", \"Comment\", \"Sentiment\"]"
      ],
      "metadata": {
        "id": "a5BHI06t1WJZ"
      },
      "execution_count": 30,
      "outputs": []
    },
    {
      "cell_type": "code",
      "source": [
        "df_comments_optimized = (spark.read.parquet(\"/content/videos-comments-tratados.snappy.parquet\").filter(F.col(\"Video ID\").isin(keys_to_filter)).select(colunas_comments))"
      ],
      "metadata": {
        "id": "Vdy8NBfg1fx9"
      },
      "execution_count": 29,
      "outputs": []
    },
    {
      "cell_type": "code",
      "source": [
        "df_resultado = df_comments_optimized.join(df_videos2, on=\"Video ID\", how=\"inner\")"
      ],
      "metadata": {
        "id": "mRTEvOT92uCP"
      },
      "execution_count": 28,
      "outputs": []
    }
  ]
}