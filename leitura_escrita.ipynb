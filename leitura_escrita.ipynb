{
  "nbformat": 4,
  "nbformat_minor": 0,
  "metadata": {
    "colab": {
      "provenance": []
    },
    "kernelspec": {
      "name": "python3",
      "display_name": "Python 3"
    },
    "language_info": {
      "name": "python"
    }
  },
  "cells": [
    {
      "cell_type": "code",
      "execution_count": 1,
      "metadata": {
        "colab": {
          "base_uri": "https://localhost:8080/"
        },
        "collapsed": true,
        "id": "0I1oDKb_lMkx",
        "outputId": "20eda7ca-45b1-42ca-af94-8d35e0c8a478"
      },
      "outputs": [
        {
          "output_type": "stream",
          "name": "stdout",
          "text": [
            "Requirement already satisfied: pyspark in /usr/local/lib/python3.12/dist-packages (3.5.1)\n",
            "Requirement already satisfied: py4j==0.10.9.7 in /usr/local/lib/python3.12/dist-packages (from pyspark) (0.10.9.7)\n"
          ]
        }
      ],
      "source": [
        "!pip install pyspark"
      ]
    },
    {
      "cell_type": "code",
      "source": [
        "import pyspark\n",
        "from pyspark.sql import SparkSession\n",
        "from pyspark.sql.types import *\n",
        "from datetime import date"
      ],
      "metadata": {
        "id": "a8tg0VQhlR4u"
      },
      "execution_count": 3,
      "outputs": []
    },
    {
      "cell_type": "code",
      "source": [
        "spark = SparkSession.builder.getOrCreate()"
      ],
      "metadata": {
        "id": "e-PlxkMRnEnn"
      },
      "execution_count": 4,
      "outputs": []
    },
    {
      "cell_type": "code",
      "source": [
        "df = spark.read.csv('videos-stats.csv', header=True)"
      ],
      "metadata": {
        "id": "sG-lWx0mnOPs"
      },
      "execution_count": 6,
      "outputs": []
    },
    {
      "cell_type": "code",
      "source": [
        "df.take(8)"
      ],
      "metadata": {
        "colab": {
          "base_uri": "https://localhost:8080/"
        },
        "collapsed": true,
        "id": "eVx9lv9Dp-Fy",
        "outputId": "1e209e3a-a465-4555-fb26-d870a99cfdb7"
      },
      "execution_count": 7,
      "outputs": [
        {
          "output_type": "execute_result",
          "data": {
            "text/plain": [
              "[Row(_c0='0', Title='Apple Pay Is Killing the Physical Wallet After Only Eight Years | Tech News Briefing Podcast | WSJ', Video ID='wAZZ-UWGVHI', Published At='2022-08-23', Keyword='tech', Likes='3407.0', Comments='672.0', Views='135612.0'),\n",
              " Row(_c0='1', Title='The most EXPENSIVE thing I own.', Video ID='b3x28s61q3c', Published At='2022-08-24', Keyword='tech', Likes='76779.0', Comments='4306.0', Views='1758063.0'),\n",
              " Row(_c0='2', Title='My New House Gaming Setup is SICK!', Video ID='4mgePWWCAmA', Published At='2022-08-23', Keyword='tech', Likes='63825.0', Comments='3338.0', Views='1564007.0'),\n",
              " Row(_c0='3', Title='Petrol Vs Liquid Nitrogen | Freezing Experiment | പെട്രോളിനെ ഐസ് ആകാൻ പറ്റുമോ | M4 Tech |', Video ID='kXiYSI7H2b0', Published At='2022-08-23', Keyword='tech', Likes='71566.0', Comments='1426.0', Views='922918.0'),\n",
              " Row(_c0='4', Title='Best Back to School Tech 2022!', Video ID='ErMwWXQxHp0', Published At='2022-08-08', Keyword='tech', Likes='96513.0', Comments='5155.0', Views='1855644.0'),\n",
              " Row(_c0='5', Title='Brewmaster Answers Beer Questions From Twitter | Tech Support | WIRED', Video ID='18fwz9Itbvo', Published At='2021-11-05', Keyword='tech', Likes='33570.0', Comments='1643.0', Views='943119.0'),\n",
              " Row(_c0='6', Title='Tech Monopolies: Last Week Tonight with John Oliver (HBO)', Video ID='jXf04bhcjbg', Published At='2022-06-13', Keyword='tech', Likes='135047.0', Comments='9367.0', Views='5937790.0'),\n",
              " Row(_c0='7', Title='I bought the STRANGEST TECH on the Internet.', Video ID='2TqOmtTAMRY', Published At='2022-08-07', Keyword='tech', Likes='216935.0', Comments='12605.0', Views='4782514.0')]"
            ]
          },
          "metadata": {},
          "execution_count": 7
        }
      ]
    },
    {
      "cell_type": "code",
      "source": [
        "df.printSchema()"
      ],
      "metadata": {
        "colab": {
          "base_uri": "https://localhost:8080/"
        },
        "collapsed": true,
        "id": "zf6VMf3tqDk0",
        "outputId": "81e69671-2052-41c9-b7ed-7898b7f5a275"
      },
      "execution_count": 9,
      "outputs": [
        {
          "output_type": "stream",
          "name": "stdout",
          "text": [
            "root\n",
            " |-- _c0: string (nullable = true)\n",
            " |-- Title: string (nullable = true)\n",
            " |-- Video ID: string (nullable = true)\n",
            " |-- Published At: string (nullable = true)\n",
            " |-- Keyword: string (nullable = true)\n",
            " |-- Likes: string (nullable = true)\n",
            " |-- Comments: string (nullable = true)\n",
            " |-- Views: string (nullable = true)\n",
            "\n"
          ]
        }
      ]
    },
    {
      "cell_type": "code",
      "source": [
        "df = spark.read.option('header','true').option('inferSchema','true').csv('videos-stats.csv')"
      ],
      "metadata": {
        "id": "bxKzL_kkqVKD"
      },
      "execution_count": 11,
      "outputs": []
    },
    {
      "cell_type": "code",
      "source": [
        "!rm -r output/videos-stats_parquet\n",
        "df.write.option('header','true').save('output/videos-stats_parquet')"
      ],
      "metadata": {
        "id": "fn8OOJiStjgg"
      },
      "execution_count": 19,
      "outputs": []
    },
    {
      "cell_type": "code",
      "source": [
        "df = spark.read.parquet('output/videos-stats_parquet')"
      ],
      "metadata": {
        "id": "PCGM0mOq2ZGH"
      },
      "execution_count": 37,
      "outputs": []
    },
    {
      "cell_type": "code",
      "source": [
        "df.write.option('header', 'true').saveAsTable('tb_videos')"
      ],
      "metadata": {
        "id": "DRgOaNLezVkm"
      },
      "execution_count": 24,
      "outputs": []
    },
    {
      "cell_type": "code",
      "source": [
        "spark.catalog.listDatabases()"
      ],
      "metadata": {
        "colab": {
          "base_uri": "https://localhost:8080/"
        },
        "id": "0aStsJEa0HI-",
        "outputId": "228a3911-568d-4ca1-8642-eb205655d76e"
      },
      "execution_count": 25,
      "outputs": [
        {
          "output_type": "execute_result",
          "data": {
            "text/plain": [
              "[Database(name='default', catalog='spark_catalog', description='default database', locationUri='file:/content/spark-warehouse')]"
            ]
          },
          "metadata": {},
          "execution_count": 25
        }
      ]
    },
    {
      "cell_type": "code",
      "source": [
        "spark.catalog.setCurrentDatabase('default')"
      ],
      "metadata": {
        "id": "N6ZqMuev0i1h"
      },
      "execution_count": 27,
      "outputs": []
    },
    {
      "cell_type": "code",
      "source": [
        "spark.catalog.listTables()"
      ],
      "metadata": {
        "colab": {
          "base_uri": "https://localhost:8080/"
        },
        "id": "L6Ftizsc0L1D",
        "outputId": "851e3ac3-32c8-4ab9-b01f-4b53437dd9af"
      },
      "execution_count": 28,
      "outputs": [
        {
          "output_type": "execute_result",
          "data": {
            "text/plain": [
              "[Table(name='tb_videos', catalog='spark_catalog', namespace=['default'], description=None, tableType='MANAGED', isTemporary=False),\n",
              " Table(name='videos_stats', catalog='spark_catalog', namespace=['default'], description=None, tableType='MANAGED', isTemporary=False)]"
            ]
          },
          "metadata": {},
          "execution_count": 28
        }
      ]
    },
    {
      "cell_type": "code",
      "source": [
        "tab_df = spark.sql('select * from tb_videos')\n",
        "tab_df.show()"
      ],
      "metadata": {
        "colab": {
          "base_uri": "https://localhost:8080/"
        },
        "collapsed": true,
        "id": "zSKVYaMG05MO",
        "outputId": "0e3aeb7c-3ae1-404e-f01f-dd4a30f4a5ec"
      },
      "execution_count": 29,
      "outputs": [
        {
          "output_type": "stream",
          "name": "stdout",
          "text": [
            "+---+--------------------+-----------+------------+-------+--------+--------+-----------+\n",
            "|_c0|               Title|   Video ID|Published At|Keyword|   Likes|Comments|      Views|\n",
            "+---+--------------------+-----------+------------+-------+--------+--------+-----------+\n",
            "|  0|Apple Pay Is Kill...|wAZZ-UWGVHI|  2022-08-23|   tech|  3407.0|   672.0|   135612.0|\n",
            "|  1|The most EXPENSIV...|b3x28s61q3c|  2022-08-24|   tech| 76779.0|  4306.0|  1758063.0|\n",
            "|  2|My New House Gami...|4mgePWWCAmA|  2022-08-23|   tech| 63825.0|  3338.0|  1564007.0|\n",
            "|  3|Petrol Vs Liquid ...|kXiYSI7H2b0|  2022-08-23|   tech| 71566.0|  1426.0|   922918.0|\n",
            "|  4|Best Back to Scho...|ErMwWXQxHp0|  2022-08-08|   tech| 96513.0|  5155.0|  1855644.0|\n",
            "|  5|Brewmaster Answer...|18fwz9Itbvo|  2021-11-05|   tech| 33570.0|  1643.0|   943119.0|\n",
            "|  6|Tech Monopolies: ...|jXf04bhcjbg|  2022-06-13|   tech|135047.0|  9367.0|  5937790.0|\n",
            "|  7|I bought the STRA...|2TqOmtTAMRY|  2022-08-07|   tech|216935.0| 12605.0|  4782514.0|\n",
            "|  8|15 Emerging Techn...|wLlL46pYcg4|  2021-12-08|   tech| 45565.0|  2882.0|  7001236.0|\n",
            "|  9|Toxicologist Answ...|R7qsau3X6Ks|  2022-07-14|   tech| 24252.0|  1068.0|   667767.0|\n",
            "| 10|Dope Tech: The Mo...|MEiq0oCUb_8|  2022-08-15|   tech|118001.0|  4123.0|  2359142.0|\n",
            "| 11|Cool Tech Under $...|pT_9hntWj34|  2022-08-06|   tech| 20999.0|  3091.0|   413179.0|\n",
            "| 12|Cool Back to Scho...|cj4lxmHQV0o|  2022-08-13|   tech| 15322.0|   547.0|   389114.0|\n",
            "| 13|Best Tech/EDC Gif...|d-BdIo8_wpA|  2021-12-15|   tech| 17866.0|   157.0|   444953.0|\n",
            "| 14|My Massive Tech U...|eFhhW6fsAbQ|  2022-07-09|   tech| 13217.0|   442.0|   371563.0|\n",
            "| 15|Why Millennials A...|N88OE2ZCHBM|  2021-06-04|   tech| 26890.0|  4999.0|  1633059.0|\n",
            "| 16|10 Coolest Gadget...|PKATJiyz0iI|  2021-08-13|   tech|  9562.0|   199.0|   760249.0|\n",
            "| 17|17 Coolest Gadget...|qiMnSaZWf3M|  2022-07-21|   tech| 11743.0|   143.0|  1086568.0|\n",
            "| 18|Almost EVERYONE i...|4AnyhHl3_tE|  2022-08-14|   tech|146978.0| 11105.0|  3186890.0|\n",
            "| 19|I bought the THIN...|nmY2kgWYwyQ|  2022-03-25|   tech|363771.0| 13609.0|1.1422924E7|\n",
            "+---+--------------------+-----------+------------+-------+--------+--------+-----------+\n",
            "only showing top 20 rows\n",
            "\n"
          ]
        }
      ]
    },
    {
      "cell_type": "code",
      "source": [
        "df2 = spark.read.option('header','true').option('inferSchema','true').csv('comments.csv')"
      ],
      "metadata": {
        "id": "YpPbhIdc2huu"
      },
      "execution_count": 39,
      "outputs": []
    },
    {
      "cell_type": "code",
      "source": [
        "df2.show()"
      ],
      "metadata": {
        "colab": {
          "base_uri": "https://localhost:8080/"
        },
        "collapsed": true,
        "id": "GL5YAD2B2_NE",
        "outputId": "dc0f4160-9ea0-4892-d554-580ea4e15b5c"
      },
      "execution_count": 40,
      "outputs": [
        {
          "output_type": "stream",
          "name": "stdout",
          "text": [
            "+--------------+-----------+--------------------+------+---------+\n",
            "|           _c0|   Video ID|             Comment| Likes|Sentiment|\n",
            "+--------------+-----------+--------------------+------+---------+\n",
            "|             0|wAZZ-UWGVHI|Let's not forget ...|  95.0|      1.0|\n",
            "|             1|wAZZ-UWGVHI|Here in NZ 50% of...|  19.0|      0.0|\n",
            "|             2|wAZZ-UWGVHI|I will forever ac...| 161.0|      2.0|\n",
            "|             3|wAZZ-UWGVHI|Whenever I go to ...|   8.0|      0.0|\n",
            "|             4|wAZZ-UWGVHI|Apple Pay is so c...|  34.0|      2.0|\n",
            "|             5|wAZZ-UWGVHI|We’ve been houndi...|   8.0|      1.0|\n",
            "|             6|wAZZ-UWGVHI|We only got Apple...|  29.0|      2.0|\n",
            "|             7|wAZZ-UWGVHI|For now, I need b...|   7.0|      1.0|\n",
            "|             8|wAZZ-UWGVHI|In the United Sta...|   2.0|      2.0|\n",
            "|             9|wAZZ-UWGVHI|In Cambodia, we h...|  28.0|      1.0|\n",
            "|            10|b3x28s61q3c|Wow, you really w...|1344.0|      2.0|\n",
            "|            11|b3x28s61q3c|The lab is the mo...| 198.0|      2.0|\n",
            "|            12|b3x28s61q3c|Linus, I'm an eng...| 365.0|      2.0|\n",
            "|            13|b3x28s61q3c|There used to be ...| 211.0|      2.0|\n",
            "|            14|b3x28s61q3c|Holy crap. I was ...| 821.0|      0.0|\n",
            "|            15|b3x28s61q3c|I love the direct...| 150.0|      2.0|\n",
            "|            16|b3x28s61q3c|I am more excited...|  49.0|      2.0|\n",
            "|            17|b3x28s61q3c|I adore the worki...|  19.0|      2.0|\n",
            "|            18|b3x28s61q3c|LMGs growth is ho...|  NULL|     NULL|\n",
            "|More technical|   in depth| engineering orie...|  17.0|      2.0|\n",
            "+--------------+-----------+--------------------+------+---------+\n",
            "only showing top 20 rows\n",
            "\n"
          ]
        }
      ]
    },
    {
      "cell_type": "code",
      "source": [
        "df2.write.option('header', 'true').save('output/comments-parquet')"
      ],
      "metadata": {
        "id": "e5NJP6xD3EoD"
      },
      "execution_count": 41,
      "outputs": []
    }
  ]
}