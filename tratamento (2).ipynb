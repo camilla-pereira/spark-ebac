{
  "nbformat": 4,
  "nbformat_minor": 0,
  "metadata": {
    "colab": {
      "provenance": []
    },
    "kernelspec": {
      "name": "python3",
      "display_name": "Python 3"
    },
    "language_info": {
      "name": "python"
    }
  },
  "cells": [
    {
      "cell_type": "code",
      "execution_count": 1,
      "metadata": {
        "colab": {
          "base_uri": "https://localhost:8080/"
        },
        "collapsed": true,
        "id": "Po5EUTEavrDY",
        "outputId": "5168a3ad-7588-4eff-be82-d123af63602a"
      },
      "outputs": [
        {
          "output_type": "stream",
          "name": "stdout",
          "text": [
            "Requirement already satisfied: pyspark in /usr/local/lib/python3.12/dist-packages (3.5.1)\n",
            "Requirement already satisfied: py4j==0.10.9.7 in /usr/local/lib/python3.12/dist-packages (from pyspark) (0.10.9.7)\n"
          ]
        }
      ],
      "source": [
        "!pip install pyspark"
      ]
    },
    {
      "cell_type": "code",
      "source": [
        "import pyspark\n",
        "from pyspark.sql import SparkSession\n",
        "from pyspark.sql.functions import col, to_date, date_format, count, when"
      ],
      "metadata": {
        "id": "9MmA1mPA-SoV"
      },
      "execution_count": 29,
      "outputs": []
    },
    {
      "cell_type": "code",
      "source": [
        "spark = SparkSession.builder.getOrCreate()"
      ],
      "metadata": {
        "id": "mqWdVmaR-X0c"
      },
      "execution_count": 3,
      "outputs": []
    },
    {
      "cell_type": "code",
      "source": [
        "df_video = spark.read.csv('videos-stats.csv', header = True, inferSchema= True)"
      ],
      "metadata": {
        "id": "3dcsty_I-xEp"
      },
      "execution_count": 4,
      "outputs": []
    },
    {
      "cell_type": "code",
      "source": [
        "colunas = ['Likes', 'Comments', 'Views']\n",
        "\n",
        "for coluna in colunas:\n",
        "  df_video = df_video.na.fill({coluna:0})\n"
      ],
      "metadata": {
        "id": "KtSt0Y3BDWe-"
      },
      "execution_count": 5,
      "outputs": []
    },
    {
      "cell_type": "code",
      "source": [
        "df_comentario = spark.read.csv('comments.csv', header = True, inferSchema= True, escape='\"', quote='\"', multiLine=True)\n"
      ],
      "metadata": {
        "id": "BNIjnwsPFOqk"
      },
      "execution_count": 6,
      "outputs": []
    },
    {
      "cell_type": "code",
      "source": [
        "print('Quantidade de registros em df_video:', df_video.count())\n",
        "print('Quantidade de registros em df_comentario:',df_comentario.count())"
      ],
      "metadata": {
        "colab": {
          "base_uri": "https://localhost:8080/"
        },
        "collapsed": true,
        "id": "YQKTCEBaF1mW",
        "outputId": "19eed73e-b98a-4e88-d993-05d5c9783557"
      },
      "execution_count": 7,
      "outputs": [
        {
          "output_type": "stream",
          "name": "stdout",
          "text": [
            "Quantidade de registros em df_video: 1881\n",
            "Quantidade de registros em df_comentario: 18409\n"
          ]
        }
      ]
    },
    {
      "cell_type": "code",
      "source": [
        "df_video_IDvazio = df_video.filter(col('Video ID').isNull())\n",
        "print('Quantidade de registros em df_video com video_id vazio:', df_video_IDvazio.count())\n",
        "\n",
        "df_comentario_IDvazio = df_comentario.filter(col('Video ID').isNull())\n",
        "print('Quantidade de registros em df_comentario com video_id vazio:', df_comentario_IDvazio.count())"
      ],
      "metadata": {
        "colab": {
          "base_uri": "https://localhost:8080/"
        },
        "collapsed": true,
        "id": "Z8gshRLEIUfo",
        "outputId": "52a7339c-5f4a-4282-fadb-0243afe3032b"
      },
      "execution_count": 8,
      "outputs": [
        {
          "output_type": "stream",
          "name": "stdout",
          "text": [
            "Quantidade de registros em df_video com video_id vazio: 0\n",
            "Quantidade de registros em df_comentario com video_id vazio: 0\n"
          ]
        }
      ]
    },
    {
      "cell_type": "code",
      "source": [
        "print('Quantidade de registros em df_video:', df_video.count())\n",
        "print('Quantidade de registros em df_comentario:',df_comentario.count())"
      ],
      "metadata": {
        "colab": {
          "base_uri": "https://localhost:8080/"
        },
        "id": "A8YAQS4ZI8aZ",
        "outputId": "36742da7-d4a9-40fb-a482-c3c5131e61ec"
      },
      "execution_count": 9,
      "outputs": [
        {
          "output_type": "stream",
          "name": "stdout",
          "text": [
            "Quantidade de registros em df_video: 1881\n",
            "Quantidade de registros em df_comentario: 18409\n"
          ]
        }
      ]
    },
    {
      "cell_type": "code",
      "source": [
        "df_video = df_video.dropDuplicates(subset=['Video ID'])\n",
        "print('Quantidade de registros que restou após a retirada dos duplicados em Video_ID em df_video: ', df_video.count())"
      ],
      "metadata": {
        "colab": {
          "base_uri": "https://localhost:8080/"
        },
        "collapsed": true,
        "id": "4547XYS9JGkL",
        "outputId": "bdaed1bc-e1d8-4d46-b89a-0b1a3df43aba"
      },
      "execution_count": 11,
      "outputs": [
        {
          "output_type": "stream",
          "name": "stdout",
          "text": [
            "Quantidade de registros que restou após a retirada dos duplicados em Video_ID em df_video:  1869\n"
          ]
        }
      ]
    },
    {
      "cell_type": "code",
      "source": [
        "df_video.printSchema()"
      ],
      "metadata": {
        "colab": {
          "base_uri": "https://localhost:8080/"
        },
        "collapsed": true,
        "id": "gmM-GKbrKlbu",
        "outputId": "85f8cc38-a40e-4f69-90a1-37872f70cfbf"
      },
      "execution_count": 12,
      "outputs": [
        {
          "output_type": "stream",
          "name": "stdout",
          "text": [
            "root\n",
            " |-- _c0: integer (nullable = true)\n",
            " |-- Title: string (nullable = true)\n",
            " |-- Video ID: string (nullable = true)\n",
            " |-- Published At: date (nullable = true)\n",
            " |-- Keyword: string (nullable = true)\n",
            " |-- Likes: double (nullable = false)\n",
            " |-- Comments: double (nullable = false)\n",
            " |-- Views: double (nullable = false)\n",
            "\n"
          ]
        }
      ]
    },
    {
      "cell_type": "code",
      "source": [
        "df_video = df_video.withColumn('Likes', col('Likes').cast('int'))\n",
        "df_video.printSchema()"
      ],
      "metadata": {
        "colab": {
          "base_uri": "https://localhost:8080/"
        },
        "id": "XksfRMGZK2CR",
        "outputId": "100697c8-843a-4302-ca40-ffdbf2a5b235"
      },
      "execution_count": 13,
      "outputs": [
        {
          "output_type": "stream",
          "name": "stdout",
          "text": [
            "root\n",
            " |-- _c0: integer (nullable = true)\n",
            " |-- Title: string (nullable = true)\n",
            " |-- Video ID: string (nullable = true)\n",
            " |-- Published At: date (nullable = true)\n",
            " |-- Keyword: string (nullable = true)\n",
            " |-- Likes: integer (nullable = true)\n",
            " |-- Comments: double (nullable = false)\n",
            " |-- Views: double (nullable = false)\n",
            "\n"
          ]
        }
      ]
    },
    {
      "cell_type": "code",
      "source": [
        "df_video = df_video.withColumn('Comments', col('Comments').cast('int'))\n",
        "df_video.printSchema()"
      ],
      "metadata": {
        "colab": {
          "base_uri": "https://localhost:8080/"
        },
        "collapsed": true,
        "id": "TUY3407nL4NT",
        "outputId": "13a50929-3e31-40e5-da2c-a96f056fcc29"
      },
      "execution_count": 14,
      "outputs": [
        {
          "output_type": "stream",
          "name": "stdout",
          "text": [
            "root\n",
            " |-- _c0: integer (nullable = true)\n",
            " |-- Title: string (nullable = true)\n",
            " |-- Video ID: string (nullable = true)\n",
            " |-- Published At: date (nullable = true)\n",
            " |-- Keyword: string (nullable = true)\n",
            " |-- Likes: integer (nullable = true)\n",
            " |-- Comments: integer (nullable = true)\n",
            " |-- Views: double (nullable = false)\n",
            "\n"
          ]
        }
      ]
    },
    {
      "cell_type": "code",
      "source": [
        "df_video = df_video.withColumn('Views', col('Views').cast('int'))\n",
        "df_video.printSchema()"
      ],
      "metadata": {
        "colab": {
          "base_uri": "https://localhost:8080/"
        },
        "collapsed": true,
        "id": "j7j9rfXlL7u9",
        "outputId": "d16360c6-6f82-45a7-b05c-58e6f96cedcf"
      },
      "execution_count": 15,
      "outputs": [
        {
          "output_type": "stream",
          "name": "stdout",
          "text": [
            "root\n",
            " |-- _c0: integer (nullable = true)\n",
            " |-- Title: string (nullable = true)\n",
            " |-- Video ID: string (nullable = true)\n",
            " |-- Published At: date (nullable = true)\n",
            " |-- Keyword: string (nullable = true)\n",
            " |-- Likes: integer (nullable = true)\n",
            " |-- Comments: integer (nullable = true)\n",
            " |-- Views: integer (nullable = true)\n",
            "\n"
          ]
        }
      ]
    },
    {
      "cell_type": "code",
      "source": [
        "df_comentario.printSchema()\n",
        "df_comentario = df_comentario.withColumn('Likes', col('Likes').cast('int'))\n",
        "df_comentario.printSchema()"
      ],
      "metadata": {
        "colab": {
          "base_uri": "https://localhost:8080/"
        },
        "collapsed": true,
        "id": "SJIa2p68Nr-r",
        "outputId": "c1ae25b8-ab73-43d2-d37a-582dda8df367"
      },
      "execution_count": 16,
      "outputs": [
        {
          "output_type": "stream",
          "name": "stdout",
          "text": [
            "root\n",
            " |-- _c0: integer (nullable = true)\n",
            " |-- Video ID: string (nullable = true)\n",
            " |-- Comment: string (nullable = true)\n",
            " |-- Likes: double (nullable = true)\n",
            " |-- Sentiment: double (nullable = true)\n",
            "\n",
            "root\n",
            " |-- _c0: integer (nullable = true)\n",
            " |-- Video ID: string (nullable = true)\n",
            " |-- Comment: string (nullable = true)\n",
            " |-- Likes: integer (nullable = true)\n",
            " |-- Sentiment: double (nullable = true)\n",
            "\n"
          ]
        }
      ]
    },
    {
      "cell_type": "code",
      "source": [
        "df_comentario = df_comentario.withColumn('Sentiment', col('Sentiment').cast('int'))\n",
        "df_comentario.printSchema()"
      ],
      "metadata": {
        "colab": {
          "base_uri": "https://localhost:8080/"
        },
        "collapsed": true,
        "id": "sRzeY9JsOsBa",
        "outputId": "0fb41bb3-99b1-4560-f99e-2384d6c3d41f"
      },
      "execution_count": 17,
      "outputs": [
        {
          "output_type": "stream",
          "name": "stdout",
          "text": [
            "root\n",
            " |-- _c0: integer (nullable = true)\n",
            " |-- Video ID: string (nullable = true)\n",
            " |-- Comment: string (nullable = true)\n",
            " |-- Likes: integer (nullable = true)\n",
            " |-- Sentiment: integer (nullable = true)\n",
            "\n"
          ]
        }
      ]
    },
    {
      "cell_type": "code",
      "source": [
        "df_comentario = df_comentario.withColumnsRenamed({'Likes':'Likes Comment'})\n",
        "df_comentario.printSchema()"
      ],
      "metadata": {
        "colab": {
          "base_uri": "https://localhost:8080/"
        },
        "collapsed": true,
        "id": "c2O_sO4UOy_k",
        "outputId": "e35fbdcb-20be-4833-a906-9bb3c21367c5"
      },
      "execution_count": 18,
      "outputs": [
        {
          "output_type": "stream",
          "name": "stdout",
          "text": [
            "root\n",
            " |-- _c0: integer (nullable = true)\n",
            " |-- Video ID: string (nullable = true)\n",
            " |-- Comment: string (nullable = true)\n",
            " |-- Likes Comment: integer (nullable = true)\n",
            " |-- Sentiment: integer (nullable = true)\n",
            "\n"
          ]
        }
      ]
    },
    {
      "cell_type": "code",
      "source": [
        "df_video = df_video.withColumn('Interaction', col('Likes') + col('Comments') + col('Views'))\n",
        "df_video.printSchema()"
      ],
      "metadata": {
        "colab": {
          "base_uri": "https://localhost:8080/"
        },
        "collapsed": true,
        "id": "qYOjzhVVSbEC",
        "outputId": "4ac44668-f8dc-4bc8-d3a6-680248506414"
      },
      "execution_count": 19,
      "outputs": [
        {
          "output_type": "stream",
          "name": "stdout",
          "text": [
            "root\n",
            " |-- _c0: integer (nullable = true)\n",
            " |-- Title: string (nullable = true)\n",
            " |-- Video ID: string (nullable = true)\n",
            " |-- Published At: date (nullable = true)\n",
            " |-- Keyword: string (nullable = true)\n",
            " |-- Likes: integer (nullable = true)\n",
            " |-- Comments: integer (nullable = true)\n",
            " |-- Views: integer (nullable = true)\n",
            " |-- Interaction: integer (nullable = true)\n",
            "\n"
          ]
        }
      ]
    },
    {
      "cell_type": "code",
      "source": [
        "df_video.show()\n",
        "df_video.printSchema()"
      ],
      "metadata": {
        "colab": {
          "base_uri": "https://localhost:8080/"
        },
        "collapsed": true,
        "id": "0MmL3LpHT41e",
        "outputId": "27d3b63a-4a82-458f-b209-0ac8109725c1"
      },
      "execution_count": 20,
      "outputs": [
        {
          "output_type": "stream",
          "name": "stdout",
          "text": [
            "+----+--------------------+-----------+------------+----------------+------+--------+---------+-----------+\n",
            "| _c0|               Title|   Video ID|Published At|         Keyword| Likes|Comments|    Views|Interaction|\n",
            "+----+--------------------+-----------+------------+----------------+------+--------+---------+-----------+\n",
            "| 986|ASMR MUKBANG DOUB...|--ZI0dSbbNU|  2020-04-18|         mukbang|378858|   18860| 17975269|   18372987|\n",
            "|  71|Deadly car bomb d...|--hxd1CrOqg|  2022-08-22|            news|  6379|    4853|   808787|     820019|\n",
            "|  48|How Biden&#39;s s...|--ixiTypG8g|  2022-08-24|            news|  1029|    2347|    97434|     100810|\n",
            "| 993|Celebrating My 40...|-64r1hcxtV4|  2022-05-30|         mukbang| 45628|   17264|  5283664|    5346556|\n",
            "|1456|Physics Review - ...|-6IgkG5yZfo|  2017-01-02|         physics| 10959|     525|   844015|     855499|\n",
            "| 949|Eating ONLY KOREA...|-7hzaGya86g|  2022-07-17|            food| 18957|     566|   702174|     721697|\n",
            "| 240|19 Year-Old Start...|-8TnsjDRXUE|  2022-08-22|        business|  3232|     580|   188875|     192687|\n",
            "|1255|SAT® Tips and Tri...|-9hjdvULDyc|  2022-03-11|             sat|   503|      52|    13591|      14146|\n",
            "|1195|I found SECRET RO...|-Cr69sGnrk8|  2022-08-23|       minecraft|  1333|      22|   119487|     120842|\n",
            "| 238|DON&#39;T USE DOM...|-D4S6TpnO44|  2022-08-01|        business|   114|       2|     2270|       2386|\n",
            "|1062|NO MORE A FAMILY ...|-EDUPj7Vg7o|  2022-08-23|        reaction|196898|   15525|  1223879|    1436302|\n",
            "|1733|Data Science Full...|-ETQ97mXXF0|  2019-08-18|    data science|118846|    3501|  3069097|    3191444|\n",
            "| 588|ZOMBIE GIRL ESCAP...|-EjsCBHEbbk|  2020-11-28|          google|349923|    4082|122994457|  123348462|\n",
            "|1791|Making Your First...|-FIu9SGvQZc|  2021-11-10|game development| 18486|     733|   353784|     373003|\n",
            "| 614|English Job Inter...|-JNjsOX0N0c|  2021-08-03|       interview| 19630|     515|   621093|     641238|\n",
            "| 667|The History Of Ea...|-Jsj7K6E0Fg|  2022-04-13|         history| 11595|    2294|  1487029|    1500918|\n",
            "| 509|How to Assess ANY...|-Mv5KqtuVrc|  2022-08-24|           chess|    58|      21|      601|        680|\n",
            "|1016|15 Kilo Zayıf Gös...|-NcdEl405KY|  2022-08-23|         mukbang|    -1|     335|    27451|      27785|\n",
            "|1146|ALL MY EXOTIC ANI...|-QN9kxSUWZo|  2022-07-30|         animals|  6473|     455|   267705|     274633|\n",
            "| 157|All Sports Golf B...|-RmUADCWI4A|  2017-12-04|          sports|867074|   43024|106014469|  106924567|\n",
            "+----+--------------------+-----------+------------+----------------+------+--------+---------+-----------+\n",
            "only showing top 20 rows\n",
            "\n",
            "root\n",
            " |-- _c0: integer (nullable = true)\n",
            " |-- Title: string (nullable = true)\n",
            " |-- Video ID: string (nullable = true)\n",
            " |-- Published At: date (nullable = true)\n",
            " |-- Keyword: string (nullable = true)\n",
            " |-- Likes: integer (nullable = true)\n",
            " |-- Comments: integer (nullable = true)\n",
            " |-- Views: integer (nullable = true)\n",
            " |-- Interaction: integer (nullable = true)\n",
            "\n"
          ]
        }
      ]
    },
    {
      "cell_type": "code",
      "source": [
        "df_video = df_video.withColumn(\"Year\", date_format(col(\"Published At\"), \"yyyy\"))\n",
        "df_video.printSchema()"
      ],
      "metadata": {
        "colab": {
          "base_uri": "https://localhost:8080/"
        },
        "collapsed": true,
        "id": "HklGS077VC2f",
        "outputId": "7f8a5b9c-a500-4953-b60e-562587c6c68f"
      },
      "execution_count": 21,
      "outputs": [
        {
          "output_type": "stream",
          "name": "stdout",
          "text": [
            "root\n",
            " |-- _c0: integer (nullable = true)\n",
            " |-- Title: string (nullable = true)\n",
            " |-- Video ID: string (nullable = true)\n",
            " |-- Published At: date (nullable = true)\n",
            " |-- Keyword: string (nullable = true)\n",
            " |-- Likes: integer (nullable = true)\n",
            " |-- Comments: integer (nullable = true)\n",
            " |-- Views: integer (nullable = true)\n",
            " |-- Interaction: integer (nullable = true)\n",
            " |-- Year: string (nullable = true)\n",
            "\n"
          ]
        }
      ]
    },
    {
      "cell_type": "code",
      "source": [
        "join_df_video_comments = df_video.join(df_comentario, 'Video ID')\n",
        "join_df_video_comments.show()"
      ],
      "metadata": {
        "colab": {
          "base_uri": "https://localhost:8080/"
        },
        "collapsed": true,
        "id": "FdfA0byHFQp7",
        "outputId": "793b58a1-2a3e-487b-bbf3-b10209383ca7"
      },
      "execution_count": 22,
      "outputs": [
        {
          "output_type": "stream",
          "name": "stdout",
          "text": [
            "+-----------+---+--------------------+------------+-------+-----+--------+-------+-----------+----+---+--------------------+-------------+---------+\n",
            "|   Video ID|_c0|               Title|Published At|Keyword|Likes|Comments|  Views|Interaction|Year|_c0|             Comment|Likes Comment|Sentiment|\n",
            "+-----------+---+--------------------+------------+-------+-----+--------+-------+-----------+----+---+--------------------+-------------+---------+\n",
            "|wAZZ-UWGVHI|  0|Apple Pay Is Kill...|  2022-08-23|   tech| 3407|     672| 135612|     139691|2022|  0|Let's not forget ...|           95|        1|\n",
            "|wAZZ-UWGVHI|  0|Apple Pay Is Kill...|  2022-08-23|   tech| 3407|     672| 135612|     139691|2022|  1|Here in NZ 50% of...|           19|        0|\n",
            "|wAZZ-UWGVHI|  0|Apple Pay Is Kill...|  2022-08-23|   tech| 3407|     672| 135612|     139691|2022|  2|I will forever ac...|          161|        2|\n",
            "|wAZZ-UWGVHI|  0|Apple Pay Is Kill...|  2022-08-23|   tech| 3407|     672| 135612|     139691|2022|  3|Whenever I go to ...|            8|        0|\n",
            "|wAZZ-UWGVHI|  0|Apple Pay Is Kill...|  2022-08-23|   tech| 3407|     672| 135612|     139691|2022|  4|Apple Pay is so c...|           34|        2|\n",
            "|wAZZ-UWGVHI|  0|Apple Pay Is Kill...|  2022-08-23|   tech| 3407|     672| 135612|     139691|2022|  5|We’ve been houndi...|            8|        1|\n",
            "|wAZZ-UWGVHI|  0|Apple Pay Is Kill...|  2022-08-23|   tech| 3407|     672| 135612|     139691|2022|  6|We only got Apple...|           29|        2|\n",
            "|wAZZ-UWGVHI|  0|Apple Pay Is Kill...|  2022-08-23|   tech| 3407|     672| 135612|     139691|2022|  7|For now, I need b...|            7|        1|\n",
            "|wAZZ-UWGVHI|  0|Apple Pay Is Kill...|  2022-08-23|   tech| 3407|     672| 135612|     139691|2022|  8|In the United Sta...|            2|        2|\n",
            "|wAZZ-UWGVHI|  0|Apple Pay Is Kill...|  2022-08-23|   tech| 3407|     672| 135612|     139691|2022|  9|In Cambodia, we h...|           28|        1|\n",
            "|b3x28s61q3c|  1|The most EXPENSIV...|  2022-08-24|   tech|76779|    4306|1758063|    1839148|2022| 10|Wow, you really w...|         1344|        2|\n",
            "|b3x28s61q3c|  1|The most EXPENSIV...|  2022-08-24|   tech|76779|    4306|1758063|    1839148|2022| 11|The lab is the mo...|          198|        2|\n",
            "|b3x28s61q3c|  1|The most EXPENSIV...|  2022-08-24|   tech|76779|    4306|1758063|    1839148|2022| 12|Linus, I'm an eng...|          365|        2|\n",
            "|b3x28s61q3c|  1|The most EXPENSIV...|  2022-08-24|   tech|76779|    4306|1758063|    1839148|2022| 13|There used to be ...|          211|        2|\n",
            "|b3x28s61q3c|  1|The most EXPENSIV...|  2022-08-24|   tech|76779|    4306|1758063|    1839148|2022| 14|Holy crap. I was ...|          821|        0|\n",
            "|b3x28s61q3c|  1|The most EXPENSIV...|  2022-08-24|   tech|76779|    4306|1758063|    1839148|2022| 15|I love the direct...|          150|        2|\n",
            "|b3x28s61q3c|  1|The most EXPENSIV...|  2022-08-24|   tech|76779|    4306|1758063|    1839148|2022| 16|I am more excited...|           49|        2|\n",
            "|b3x28s61q3c|  1|The most EXPENSIV...|  2022-08-24|   tech|76779|    4306|1758063|    1839148|2022| 17|I adore the worki...|           19|        2|\n",
            "|b3x28s61q3c|  1|The most EXPENSIV...|  2022-08-24|   tech|76779|    4306|1758063|    1839148|2022| 18|LMGs growth is ho...|           17|        2|\n",
            "|b3x28s61q3c|  1|The most EXPENSIV...|  2022-08-24|   tech|76779|    4306|1758063|    1839148|2022| 19|I love all the pe...|         2808|        2|\n",
            "+-----------+---+--------------------+------------+-------+-----+--------+-------+-----------+----+---+--------------------+-------------+---------+\n",
            "only showing top 20 rows\n",
            "\n"
          ]
        }
      ]
    },
    {
      "cell_type": "code",
      "source": [
        "df_us_videos = spark.read.csv('/content/USvideos.csv', header = True, inferSchema= True)\n",
        "df_us_videos.printSchema()\n",
        "df_us_videos.show(10)"
      ],
      "metadata": {
        "colab": {
          "base_uri": "https://localhost:8080/"
        },
        "collapsed": true,
        "id": "bV0iIJ6wG89a",
        "outputId": "80d2eace-f2a6-4085-e358-d349a6b309f1"
      },
      "execution_count": 23,
      "outputs": [
        {
          "output_type": "stream",
          "name": "stdout",
          "text": [
            "root\n",
            " |-- video_id: string (nullable = true)\n",
            " |-- trending_date: string (nullable = true)\n",
            " |-- title: string (nullable = true)\n",
            " |-- channel_title: string (nullable = true)\n",
            " |-- category_id: string (nullable = true)\n",
            " |-- publish_time: string (nullable = true)\n",
            " |-- tags: string (nullable = true)\n",
            " |-- views: string (nullable = true)\n",
            " |-- likes: string (nullable = true)\n",
            " |-- dislikes: string (nullable = true)\n",
            " |-- comment_count: string (nullable = true)\n",
            " |-- thumbnail_link: string (nullable = true)\n",
            " |-- comments_disabled: string (nullable = true)\n",
            " |-- ratings_disabled: string (nullable = true)\n",
            " |-- video_error_or_removed: string (nullable = true)\n",
            " |-- description: string (nullable = true)\n",
            "\n",
            "+-----------+-------------+--------------------+--------------------+-----------+--------------------+--------------------+-------+------+--------+-------------+--------------------+-----------------+----------------+----------------------+--------------------+\n",
            "|   video_id|trending_date|               title|       channel_title|category_id|        publish_time|                tags|  views| likes|dislikes|comment_count|      thumbnail_link|comments_disabled|ratings_disabled|video_error_or_removed|         description|\n",
            "+-----------+-------------+--------------------+--------------------+-----------+--------------------+--------------------+-------+------+--------+-------------+--------------------+-----------------+----------------+----------------------+--------------------+\n",
            "|2kyS6SvSYSE|     17.14.11|WE WANT TO TALK A...|        CaseyNeistat|         22|2017-11-13T17:13:...|     SHANtell martin| 748374| 57527|    2966|        15954|https://i.ytimg.c...|            False|           False|                 False|SHANTELL'S CHANNE...|\n",
            "|1ZAPwfrtAFY|     17.14.11|The Trump Preside...|     LastWeekTonight|         24|2017-11-13T07:30:...|\"last week tonigh...|2418783| 97185|    6146|        12703|https://i.ytimg.c...|            False|           False|                 False|One year after th...|\n",
            "|5qpjK5DgCt4|     17.14.11|Racist Superman |...|        Rudy Mancuso|         23|2017-11-12T19:05:...|\"racist superman\"...|3191434|146033|    5339|         8181|https://i.ytimg.c...|            False|           False|                 False|WATCH MY PREVIOUS...|\n",
            "|puqaWrEC7tY|     17.14.11|Nickelback Lyrics...|Good Mythical Mor...|         24|2017-11-13T11:00:...|\"rhett and link\"|...| 343168| 10172|     666|         2146|https://i.ytimg.c...|            False|           False|                 False|Today we find out...|\n",
            "|d380meD0W0M|     17.14.11|I Dare You: GOING...|            nigahiga|         24|2017-11-12T18:01:...|\"ryan\"|\"higa\"|\"hi...|2095731|132235|    1989|        17518|https://i.ytimg.c...|            False|           False|                 False|I know it's been ...|\n",
            "|gHZ1Qz0KiKM|     17.14.11|2 Weeks with iPho...|            iJustine|         28|2017-11-13T19:07:...|\"ijustine\"|\"week ...| 119180|  9763|     511|         1434|https://i.ytimg.c...|            False|           False|                 False|Using the iPhone ...|\n",
            "|39idVpFF7NQ|     17.14.11|Roy Moore & Jeff ...| Saturday Night Live|         24|2017-11-12T05:37:...|\"SNL\"|\"Saturday N...|2103417| 15993|    2445|         1970|https://i.ytimg.c...|            False|           False|                 False|Embattled Alabama...|\n",
            "|nc99ccSXST0|     17.14.11|5 Ice Cream Gadge...|  CrazyRussianHacker|         28|2017-11-12T21:50:...|\"5 Ice Cream Gadg...| 817732| 23663|     778|         3432|https://i.ytimg.c...|            False|           False|                 False|Ice Cream Pint Co...|\n",
            "|jr9QtXwC9vc|     17.14.11|The Greatest Show...|    20th Century Fox|          1|2017-11-13T14:00:...|\"Trailer\"|\"Hugh J...| 826059|  3543|     119|          340|https://i.ytimg.c...|            False|           False|                 False|Inspired by the i...|\n",
            "|TUmyygCMMGA|     17.14.11|Why the rise of t...|                 Vox|         25|2017-11-13T13:45:...|\"vox.com\"|\"vox\"|\"...| 256426| 12654|    1363|         2368|https://i.ytimg.c...|            False|           False|                 False|For now, at least...|\n",
            "+-----------+-------------+--------------------+--------------------+-----------+--------------------+--------------------+-------+------+--------+-------------+--------------------+-----------------+----------------+----------------------+--------------------+\n",
            "only showing top 10 rows\n",
            "\n"
          ]
        }
      ]
    },
    {
      "cell_type": "code",
      "source": [
        "df_join_video_usvideos = df_video.join(df_us_videos, 'title')\n",
        "df_join_video_usvideos.show()"
      ],
      "metadata": {
        "colab": {
          "base_uri": "https://localhost:8080/"
        },
        "collapsed": true,
        "id": "nC4AZQbQH_rY",
        "outputId": "7c3a896d-4cb4-4ba3-85ec-e0b15ca0f3f3"
      },
      "execution_count": 24,
      "outputs": [
        {
          "output_type": "stream",
          "name": "stdout",
          "text": [
            "+--------------------+----+-----------+------------+----------------+------+--------+---------+-----------+----+-----------+-------------+-----------------+-----------+--------------------+--------------------+--------+------+--------+-------------+--------------------+-----------------+----------------+----------------------+--------------------+\n",
            "|               Title| _c0|   Video ID|Published At|         Keyword| Likes|Comments|    Views|Interaction|Year|   video_id|trending_date|    channel_title|category_id|        publish_time|                tags|   views| likes|dislikes|comment_count|      thumbnail_link|comments_disabled|ratings_disabled|video_error_or_removed|         description|\n",
            "+--------------------+----+-----------+------------+----------------+------+--------+---------+-----------+----+-----------+-------------+-----------------+-----------+--------------------+--------------------+--------+------+--------+-------------+--------------------+-----------------+----------------+----------------------+--------------------+\n",
            "|All Sports Golf B...| 157|-RmUADCWI4A|  2017-12-04|          sports|867074|   43024|106014469|  106924567|2017|-RmUADCWI4A|     17.06.12|     Dude Perfect|         17|2017-12-04T22:57:...|\"dude perfect\"|\"d...| 8643326|299731|    5168|        23303|https://i.ytimg.c...|            False|           False|                 False|Golf + every othe...|\n",
            "|All Sports Golf B...| 157|-RmUADCWI4A|  2017-12-04|          sports|867074|   43024|106014469|  106924567|2017|-RmUADCWI4A|     17.07.12|     Dude Perfect|         17|2017-12-04T22:57:...|\"dude perfect\"|\"d...| 9828746|316976|    5797|        23221|https://i.ytimg.c...|            False|           False|                 False|Golf + every othe...|\n",
            "|All Sports Golf B...| 157|-RmUADCWI4A|  2017-12-04|          sports|867074|   43024|106014469|  106924567|2017|-RmUADCWI4A|     17.08.12|     Dude Perfect|         17|2017-12-04T22:57:...|\"dude perfect\"|\"d...|10558591|325479|    6104|        24107|https://i.ytimg.c...|            False|           False|                 False|Golf + every othe...|\n",
            "|All Sports Golf B...| 157|-RmUADCWI4A|  2017-12-04|          sports|867074|   43024|106014469|  106924567|2017|-RmUADCWI4A|     17.09.12|     Dude Perfect|         17|2017-12-04T22:57:...|\"dude perfect\"|\"d...|11319116|334495|    6430|        25199|https://i.ytimg.c...|            False|           False|                 False|Golf + every othe...|\n",
            "|All Sports Golf B...| 157|-RmUADCWI4A|  2017-12-04|          sports|867074|   43024|106014469|  106924567|2017|-RmUADCWI4A|     17.10.12|     Dude Perfect|         17|2017-12-04T22:57:...|\"dude perfect\"|\"d...|12305961|342825|    6898|        25905|https://i.ytimg.c...|            False|           False|                 False|Golf + every othe...|\n",
            "|All Sports Golf B...| 157|-RmUADCWI4A|  2017-12-04|          sports|867074|   43024|106014469|  106924567|2017|-RmUADCWI4A|     17.11.12|     Dude Perfect|         17|2017-12-04T22:57:...|\"dude perfect\"|\"d...|13250970|349766|    7437|        26489|https://i.ytimg.c...|            False|           False|                 False|Golf + every othe...|\n",
            "|All Sports Golf B...| 157|-RmUADCWI4A|  2017-12-04|          sports|867074|   43024|106014469|  106924567|2017|-RmUADCWI4A|     17.12.12|     Dude Perfect|         17|2017-12-04T22:57:...|\"dude perfect\"|\"d...|14107720|356297|    7889|        27012|https://i.ytimg.c...|            False|           False|                 False|Golf + every othe...|\n",
            "|      Map of Biology|1408|wENhHnJI1ys|  2017-12-09|         biology| 26530|     818|   602137|     629485|2017|wENhHnJI1ys|     17.13.12|Domain of Science|         28|2017-12-09T15:32:...|\"science\"|\"biolog...|   30134|  2747|      17|          233|https://i.ytimg.c...|            False|           False|                 False|Biology is the su...|\n",
            "|      Map of Biology|1408|wENhHnJI1ys|  2017-12-09|         biology| 26530|     818|   602137|     629485|2017|wENhHnJI1ys|     17.14.12|Domain of Science|         28|2017-12-09T15:32:...|\"science\"|\"biolog...|   31928|  2843|      17|          230|https://i.ytimg.c...|            False|           False|                 False|Biology is the su...|\n",
            "|  How Machines Learn|1860|R9OHn5ZF4Uo|  2017-12-18|machine learning| 10441|     172|   515395|     526008|2017|R9OHn5ZF4Uo|     17.20.12|         CGP Grey|         27|2017-12-18T14:39:...|\"cgpgrey\"|\"educat...| 1227348|155986|     916|         9335|https://i.ytimg.c...|            False|           False|                 False|How do all the al...|\n",
            "|  How Machines Learn|1860|R9OHn5ZF4Uo|  2017-12-18|machine learning| 10441|     172|   515395|     526008|2017|R9OHn5ZF4Uo|     17.21.12|         CGP Grey|         27|2017-12-18T14:39:...|\"cgpgrey\"|\"educat...| 1515895|166667|    1169|         9820|https://i.ytimg.c...|            False|           False|                 False|How do all the al...|\n",
            "|  How Machines Learn|1860|R9OHn5ZF4Uo|  2017-12-18|machine learning| 10441|     172|   515395|     526008|2017|R9OHn5ZF4Uo|     17.22.12|         CGP Grey|         27|2017-12-18T14:39:...|\"cgpgrey\"|\"educat...| 1570967|171457|    1204|        10048|https://i.ytimg.c...|            False|           False|                 False|How do all the al...|\n",
            "|  How Machines Learn|1860|R9OHn5ZF4Uo|  2017-12-18|machine learning| 10441|     172|   515395|     526008|2017|R9OHn5ZF4Uo|     17.23.12|         CGP Grey|         27|2017-12-18T14:39:...|\"cgpgrey\"|\"educat...| 1610875|174918|    1225|        10185|https://i.ytimg.c...|            False|           False|                 False|How do all the al...|\n",
            "|  How Machines Learn|1860|R9OHn5ZF4Uo|  2017-12-18|machine learning| 10441|     172|   515395|     526008|2017|R9OHn5ZF4Uo|     17.24.12|         CGP Grey|         27|2017-12-18T14:39:...|\"cgpgrey\"|\"educat...| 1646752|178160|    1239|        10347|https://i.ytimg.c...|            False|           False|                 False|How do all the al...|\n",
            "|  How Machines Learn|1860|R9OHn5ZF4Uo|  2017-12-18|machine learning| 10441|     172|   515395|     526008|2017|R9OHn5ZF4Uo|     17.25.12|         CGP Grey|         27|2017-12-18T14:39:...|\"cgpgrey\"|\"educat...| 1677991|180305|    1253|        10439|https://i.ytimg.c...|            False|           False|                 False|How do all the al...|\n",
            "|  How Machines Learn|1860|R9OHn5ZF4Uo|  2017-12-18|machine learning| 10441|     172|   515395|     526008|2017|R9OHn5ZF4Uo|     17.26.12|         CGP Grey|         27|2017-12-18T14:39:...|\"cgpgrey\"|\"educat...| 1712379|182958|    1271|        10578|https://i.ytimg.c...|            False|           False|                 False|How do all the al...|\n",
            "|  How Machines Learn|1860|R9OHn5ZF4Uo|  2017-12-18|machine learning| 10441|     172|   515395|     526008|2017|R9OHn5ZF4Uo|     17.27.12|         CGP Grey|         27|2017-12-18T14:39:...|\"cgpgrey\"|\"educat...| 1745698|185788|    1292|        10688|https://i.ytimg.c...|            False|           False|                 False|How do all the al...|\n",
            "|  How Machines Learn|1860|R9OHn5ZF4Uo|  2017-12-18|machine learning| 10441|     172|   515395|     526008|2017|R9OHn5ZF4Uo|     17.28.12|         CGP Grey|         27|2017-12-18T14:39:...|\"cgpgrey\"|\"educat...| 1769751|187892|    1298|        10742|https://i.ytimg.c...|            False|           False|                 False|How do all the al...|\n",
            "+--------------------+----+-----------+------------+----------------+------+--------+---------+-----------+----+-----------+-------------+-----------------+-----------+--------------------+--------------------+--------+------+--------+-------------+--------------------+-----------------+----------------+----------------------+--------------------+\n",
            "\n"
          ]
        }
      ]
    },
    {
      "cell_type": "code",
      "source": [
        "df_video.count()"
      ],
      "metadata": {
        "colab": {
          "base_uri": "https://localhost:8080/"
        },
        "id": "OF3vuvY3JnDM",
        "outputId": "61750c64-95c9-4a80-f3f7-d7ec7c2d0418"
      },
      "execution_count": 25,
      "outputs": [
        {
          "output_type": "execute_result",
          "data": {
            "text/plain": [
              "1869"
            ]
          },
          "metadata": {},
          "execution_count": 25
        }
      ]
    },
    {
      "cell_type": "code",
      "source": [
        "df_video_contanulos = df_video.select([count(when(col(c).isNull(), c)).alias(c) for c in df_video.columns])\n",
        "df_video_contanulos.show()"
      ],
      "metadata": {
        "colab": {
          "base_uri": "https://localhost:8080/"
        },
        "collapsed": true,
        "id": "7iG_O3LVIdaV",
        "outputId": "b053b138-95ac-4f37-9b30-8a16698bbf73"
      },
      "execution_count": 30,
      "outputs": [
        {
          "output_type": "stream",
          "name": "stdout",
          "text": [
            "+---+-----+--------+------------+-------+-----+--------+-----+-----------+----+\n",
            "|_c0|Title|Video ID|Published At|Keyword|Likes|Comments|Views|Interaction|Year|\n",
            "+---+-----+--------+------------+-------+-----+--------+-----+-----------+----+\n",
            "|  0|    0|       0|           0|      0|    0|       0|    0|          0|   0|\n",
            "+---+-----+--------+------------+-------+-----+--------+-----+-----------+----+\n",
            "\n"
          ]
        }
      ]
    },
    {
      "cell_type": "code",
      "source": [
        "df_video = df_video.drop(\"_c0\")\n",
        "df_video.printSchema()"
      ],
      "metadata": {
        "colab": {
          "base_uri": "https://localhost:8080/"
        },
        "collapsed": true,
        "id": "BTIrcwmLLcGD",
        "outputId": "a2889598-e5d9-40ee-b1be-0f5610fe1237"
      },
      "execution_count": null,
      "outputs": [
        {
          "output_type": "stream",
          "name": "stdout",
          "text": [
            "root\n",
            " |-- Title: string (nullable = true)\n",
            " |-- Video ID: string (nullable = true)\n",
            " |-- Published At: date (nullable = true)\n",
            " |-- Keyword: string (nullable = true)\n",
            " |-- Likes: integer (nullable = true)\n",
            " |-- Comments: integer (nullable = true)\n",
            " |-- Views: integer (nullable = true)\n",
            " |-- Interaction: integer (nullable = true)\n",
            " |-- Year: string (nullable = true)\n",
            "\n"
          ]
        }
      ]
    },
    {
      "cell_type": "code",
      "source": [
        "join_df_video_comments = join_df_video_comments.drop(\"_c0\")\n",
        "join_df_video_comments.printSchema()"
      ],
      "metadata": {
        "colab": {
          "base_uri": "https://localhost:8080/"
        },
        "id": "AgMRvlTpN4f3",
        "outputId": "e0c215af-b0c9-42a8-dc69-d62bbb656f3b"
      },
      "execution_count": null,
      "outputs": [
        {
          "output_type": "stream",
          "name": "stdout",
          "text": [
            "root\n",
            " |-- Video ID: string (nullable = true)\n",
            " |-- Title: string (nullable = true)\n",
            " |-- Published At: date (nullable = true)\n",
            " |-- Keyword: string (nullable = true)\n",
            " |-- Likes: integer (nullable = true)\n",
            " |-- Comments: integer (nullable = true)\n",
            " |-- Views: integer (nullable = true)\n",
            " |-- Interaction: integer (nullable = true)\n",
            " |-- Year: string (nullable = true)\n",
            " |-- Comment: string (nullable = true)\n",
            " |-- Likes Comment: integer (nullable = true)\n",
            " |-- Sentiment: integer (nullable = true)\n",
            "\n"
          ]
        }
      ]
    },
    {
      "cell_type": "code",
      "source": [
        "join_df_video_comments.write.mode('overwrite').option('header', 'true').parquet('videos-comments-tratados-parquet')"
      ],
      "metadata": {
        "id": "NYJHhfqWOHLx"
      },
      "execution_count": null,
      "outputs": []
    },
    {
      "cell_type": "code",
      "source": [
        "df_video.write.mode('overwrite').option('header', 'true').parquet('videos-tratados-parquet')"
      ],
      "metadata": {
        "id": "9koPXXqGYScj"
      },
      "execution_count": null,
      "outputs": []
    }
  ]
}